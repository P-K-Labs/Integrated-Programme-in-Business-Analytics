{
 "cells": [
  {
   "cell_type": "markdown",
   "metadata": {},
   "source": [
    "# Purpose and Observation"
   ]
  },
  {
   "cell_type": "markdown",
   "metadata": {},
   "source": [
    "## Purpose:\n",
    "    - EDA: Variable Profiling to see impact on target variables and get insights on columns to eliminate\n",
    "    \n",
    "## Main Observation:-\n",
    "\n",
    "#### Variables explored:-\n",
    "- Variables to explore (32)\n",
    "    - Amounts (4) : Owner_Salary, afyp, premium, sum_assured\n",
    "    - Gender (2): Own_gender, LA_gender\n",
    "    - Education (2): Own_Edu, Own_Education\n",
    "    - Occupation (4):  Occ_Profile, Occupation_Group, own_occupation, Occupation\n",
    "    - Internal categorization (2): risk_status, contract_type \n",
    "    - Product (5): Product_Description, Par_NonPar, Product_brief_Category, Product_Club_Manual, CUST_prod_cat\n",
    "    - Location (5): city, DSTNAME, STATNAME, Focus_region, City_classification\n",
    "    - Time (4): Age, PPT, Policy_term, billing_frequency\n",
    "    - Flags (3): channel_flag, Med_Flag, ECS_flag\n",
    "    - Marital Status (1): Martial_status \n",
    "- Variables not suitable to be explored on:\n",
    "    - Identifiers (2): policy_number, policy_owner_number\n",
    "    - Date (1): RCD\n",
    "    - Target variable itself and frequency (2): Freq, target\n",
    "\n",
    "#### Results of exploration:-\n",
    "    - Amounts : significant impact on target variable\n",
    "    - Gender: low impact on target variable\n",
    "    - Education : moderate impact on target variable\n",
    "    - Occupation : significant impact on target variable (especially more detailed categories: Occupation)\n",
    "    - Internal categorization: moderate impact on target variable\n",
    "    - Product : siginificant impact on target variable (especially more detailed categories: CUST_prod_cat)\n",
    "    - Location : siginificant impact on target variable (STATNAME, DSTNAME, city)\n",
    "    - Time : siginificant impact on target variable (Age, Policy Term)\n",
    "    - Flags : moderate impact on target variable\n",
    "    - Marital status: moderate impact on target variable\n"
   ]
  },
  {
   "cell_type": "markdown",
   "metadata": {},
   "source": [
    "# Import Libraries"
   ]
  },
  {
   "cell_type": "code",
   "execution_count": null,
   "metadata": {},
   "outputs": [],
   "source": [
    "import pandas as pd\n",
    "import numpy as np\n",
    "import seaborn as sns\n",
    "import matplotlib.pyplot as plt\n",
    "%matplotlib inline\n",
    "import csv\n"
   ]
  },
  {
   "cell_type": "markdown",
   "metadata": {},
   "source": [
    "# Read Clean and Missing Values Treated Data"
   ]
  },
  {
   "cell_type": "markdown",
   "metadata": {},
   "source": [
    "#### Moving ahead with merged dataset.\n",
    "**dataset used Merged_clean_and_dropped: Merged cleaned, continuous variables imputed with mean, rest recordes with NaN dropped**"
   ]
  },
  {
   "cell_type": "code",
   "execution_count": null,
   "metadata": {},
   "outputs": [],
   "source": [
    "df_merged = pd.read_csv('Dataset_model.csv')\n",
    "\n",
    "df_merged[\"RCD\"] = pd.to_datetime(df_merged[\"RCD\"])\n",
    "\n"
   ]
  },
  {
   "cell_type": "markdown",
   "metadata": {},
   "source": [
    "# Descriptive stats for reference"
   ]
  },
  {
   "cell_type": "code",
   "execution_count": null,
   "metadata": {
    "scrolled": true
   },
   "outputs": [],
   "source": [
    "with pd.option_context('display.max_columns', None):\n",
    "    pd.options.display.float_format = \"{:.2f}\".format\n",
    "    display(df_merged.head())\n",
    "    display(df_merged.describe())\n",
    "    display(df_merged.info())"
   ]
  },
  {
   "cell_type": "markdown",
   "metadata": {},
   "source": [
    "# EDA"
   ]
  },
  {
   "cell_type": "markdown",
   "metadata": {},
   "source": [
    "### Variables and count"
   ]
  },
  {
   "cell_type": "code",
   "execution_count": null,
   "metadata": {},
   "outputs": [],
   "source": [
    "print('All variables:', df_merged.columns)\n",
    "print('Total number of variables: ', len(df_merged.columns))\n"
   ]
  },
  {
   "cell_type": "markdown",
   "metadata": {},
   "source": [
    "### Variables explored to check impact on target variable\n",
    "- Variables to explore (32)\n",
    "    - Amounts (4) : Owner_Salary, afyp, premium, sum_assured\n",
    "    - Gender (2): Own_gender, LA_gender\n",
    "    - Education (2): Own_Edu, Own_Education\n",
    "    - Occupation (4):  Occ_Profile, Occupation_Group, own_occupation, Occupation\n",
    "    - Internal categorization (2): risk_status, contract_type \n",
    "    - Product (5): Product_Description, Par_NonPar, Product_brief_Category, Product_Club_Manual, CUST_prod_cat\n",
    "    - Location (5): city, DSTNAME, STATNAME, Focus_region, City_classification\n",
    "    - Time (4): Age, PPT, Policy_term, billing_frequency\n",
    "    - Flags (3): channel_flag, Med_Flag, ECS_flag\n",
    "    - Marital Status (1): Martial_status \n",
    "- Variables not suitable to be explored on:\n",
    "    - Identifiers (2): policy_number, policy_owner_number\n",
    "    - Date (1): RCD\n",
    "    - Target variable itself and frequency (2): Freq, target"
   ]
  },
  {
   "cell_type": "markdown",
   "metadata": {},
   "source": [
    "### Binning Continuous Variables"
   ]
  },
  {
   "cell_type": "code",
   "execution_count": null,
   "metadata": {},
   "outputs": [],
   "source": [
    "#Owner_salary\n",
    "#create buckets\n",
    "df_merged['income_brackets'] = pd.qcut(df_merged['Owner_salary'].rank(method='first'), q= 10)\n",
    "\n",
    "#age\n",
    "#create buckets\n",
    "df_merged['age_brackets'] = pd.cut(df_merged['age'], bins = [0, 18, 24, 34, 44, 55, 110])\n",
    "\n",
    "#Policy_term\n",
    "#create buckets\n",
    "df_merged['Policy_term_brackets'] = pd.cut(df_merged['Policy_term'], bins = [0, 18, 24, 34, 44, 55, 110])\n",
    "\n",
    "#billing_frequency\n",
    "#create buckets\n",
    "df_merged['billing_frequency_brackets'] = pd.cut(df_merged['billing_frequency'], bins = [-1,3,6,9,12])\n",
    "\n",
    "#PPT\n",
    "#create buckets\n",
    "df_merged['PPT_brackets'] = pd.cut(df_merged['PPT'], bins = [0, 18, 24, 34, 44, 55, 110])\n",
    "\n",
    "#premium\n",
    "#create buckets\n",
    "df_merged['premium_brackets'] = pd.qcut(df_merged['premium'].rank(method='first'), q= 10)\n",
    "\n",
    "#afyp\n",
    "#create buckets\n",
    "df_merged['afyp_brackets'] = pd.qcut(df_merged['afyp'].rank(method='first'), q= 10)\n",
    "\n",
    "#sum_assured\n",
    "#create buckets\n",
    "df_merged['sum_assured_brackets'] = pd.qcut(df_merged['sum_assured'].rank(method='first'), q= 10)"
   ]
  },
  {
   "cell_type": "markdown",
   "metadata": {},
   "source": [
    "### Create lists for variables as noted above"
   ]
  },
  {
   "cell_type": "code",
   "execution_count": null,
   "metadata": {},
   "outputs": [],
   "source": [
    "Amount = ['income_brackets', 'afyp_brackets', 'premium_brackets', 'sum_assured_brackets']\n",
    "Gender = ['Own_gender','LA_gender']\n",
    "Education = ['Own_Edu','Own_Education']\n",
    "Occupation = ['Occ_Profile', 'Occupation_Group', 'own_occupation', 'Occupation']\n",
    "Int_Cat = ['risk_status', 'contract_type']\n",
    "Product = ['Product_Description', 'Par_NonPar', 'Product_brief_category', 'Product_Club_Manual', 'CUST_prod_cat']\n",
    "Location = ['City_classification', 'Focus_region', 'STATNAME', 'DSTNAME', 'city']\n",
    "Time = ['age_brackets', 'PPT_brackets', 'Policy_term_brackets', 'billing_frequency_brackets']\n",
    "Flag = ['channel_flag', 'Med_Flag', 'ECS_flag']\n",
    "Mar_stat = ['Marital_status']"
   ]
  },
  {
   "cell_type": "markdown",
   "metadata": {},
   "source": [
    "# Variable Profiling"
   ]
  },
  {
   "cell_type": "markdown",
   "metadata": {},
   "source": [
    "#### 1. Amount"
   ]
  },
  {
   "cell_type": "code",
   "execution_count": null,
   "metadata": {
    "scrolled": false
   },
   "outputs": [],
   "source": [
    "for col in Amount:\n",
    "    plt.figure(figsize= (10,5))\n",
    "    x = pd.DataFrame(df_merged.groupby(col).target.mean()*100)\n",
    "    sns.set(style= 'whitegrid')\n",
    "    sns.barplot(x = x.index, y = 'target', data = x, palette = 'spring')\n",
    "    plt.xticks(rotation = 60)\n",
    "    plt.title(col+'_Graph')\n",
    "    plt.xlabel(col)\n",
    "    plt.ylabel(\"proportion of '1'\")\n",
    "    plt.savefig(col+'.png', bbox_inches = 'tight')\n",
    "    plt.show()\n",
    "    plt.close()"
   ]
  },
  {
   "cell_type": "markdown",
   "metadata": {},
   "source": [
    "xticks? legend?"
   ]
  },
  {
   "cell_type": "markdown",
   "metadata": {},
   "source": [
    "***NOTES: All 'Amount'vars have an impact on target variable. All may be included in model***"
   ]
  },
  {
   "cell_type": "markdown",
   "metadata": {},
   "source": [
    "#### 2. Gender"
   ]
  },
  {
   "cell_type": "code",
   "execution_count": null,
   "metadata": {},
   "outputs": [],
   "source": [
    "for col in Gender:\n",
    "    plt.figure(figsize= (10,5))\n",
    "    x = pd.DataFrame(df_merged.groupby(col).target.mean()*100)\n",
    "    sns.set(style= 'whitegrid')\n",
    "    sns.barplot(x = x.index, y = 'target', data = x, palette = 'spring')\n",
    "    plt.title(col+'_Graph')\n",
    "    plt.xlabel(col)\n",
    "    plt.ylabel(\"proportion of '1'\")\n",
    "    plt.savefig(col+'.png', bbox_inches = 'tight')\n",
    "    plt.show()\n",
    "    plt.close()"
   ]
  },
  {
   "cell_type": "markdown",
   "metadata": {},
   "source": [
    "***NOTES: All 'Gender'vars have very less impact on target variable. Neither may be included in model***"
   ]
  },
  {
   "cell_type": "markdown",
   "metadata": {},
   "source": [
    "#### 3. Education"
   ]
  },
  {
   "cell_type": "code",
   "execution_count": null,
   "metadata": {},
   "outputs": [],
   "source": [
    "for col in Education:\n",
    "    plt.figure(figsize= (10,5))\n",
    "    x = pd.DataFrame(df_merged.groupby(col).target.mean()*100)\n",
    "    sns.set(style= 'whitegrid')\n",
    "    sns.barplot(x = x.index, y = 'target', data = x, palette = 'spring')\n",
    "    plt.xticks(rotation = 60)\n",
    "    plt.title(col+'_Graph')\n",
    "    plt.xlabel(col)\n",
    "    plt.ylabel(\"proportion of '1'\")\n",
    "    plt.savefig(col+'.png', bbox_inches = 'tight')\n",
    "    plt.show()\n",
    "    plt.close()"
   ]
  },
  {
   "cell_type": "markdown",
   "metadata": {},
   "source": [
    "***NOTES: All 'Education'vars have an impact on target variable. Variables with broader and suitable categories as per preliminary exploration may be included***"
   ]
  },
  {
   "cell_type": "markdown",
   "metadata": {},
   "source": [
    "#### 4. Occupation"
   ]
  },
  {
   "cell_type": "code",
   "execution_count": null,
   "metadata": {},
   "outputs": [],
   "source": [
    "for col in Occupation:\n",
    "    plt.figure(figsize= (10,5))\n",
    "    x = pd.DataFrame(df_merged.groupby(col).target.mean()*100)\n",
    "    sns.set(style= 'whitegrid')\n",
    "    sns.barplot(x = x.index, y = 'target', data = x, palette = 'spring')\n",
    "    plt.xticks(rotation = 60)\n",
    "    plt.title(col+'_Graph')\n",
    "    plt.xlabel(col)\n",
    "    plt.ylabel(\"proportion of '1'\")\n",
    "    plt.savefig(col+'.png', bbox_inches = 'tight')\n",
    "    plt.show()\n",
    "    plt.close()"
   ]
  },
  {
   "cell_type": "markdown",
   "metadata": {},
   "source": [
    "***NOTES: All 'Occupation'vars have an impact on target variable. Variables with broader and suitable categories as per preliminary exploration may be included***"
   ]
  },
  {
   "cell_type": "markdown",
   "metadata": {},
   "source": [
    "#### 5. Int_Cat"
   ]
  },
  {
   "cell_type": "code",
   "execution_count": null,
   "metadata": {},
   "outputs": [],
   "source": [
    "for col in Int_Cat:\n",
    "    plt.figure(figsize= (10,5))\n",
    "    x = pd.DataFrame(df_merged.groupby(col).target.mean()*100)\n",
    "    sns.set(style= 'whitegrid')\n",
    "    sns.barplot(x = x.index, y = 'target', data = x, palette = 'spring')\n",
    "    plt.xticks(rotation = 90)\n",
    "    plt.title(col+'_Graph')\n",
    "    plt.xlabel(col)\n",
    "    plt.ylabel(\"proportion of '1'\")\n",
    "    plt.savefig(col+'.png', bbox_inches = 'tight')\n",
    "    plt.show()\n",
    "    plt.close()"
   ]
  },
  {
   "cell_type": "markdown",
   "metadata": {},
   "source": [
    "***NOTES: All 'Int_Cat 'vars have an impact on target variable. Though, their meaning cannot be understood. Hence, may be excluded from model***"
   ]
  },
  {
   "cell_type": "markdown",
   "metadata": {},
   "source": [
    "#### 6. Product"
   ]
  },
  {
   "cell_type": "code",
   "execution_count": null,
   "metadata": {
    "scrolled": false
   },
   "outputs": [],
   "source": [
    "for col in Product:\n",
    "    plt.figure(figsize= (10,5))\n",
    "    x = pd.DataFrame(df_merged.groupby(col).target.mean()*100)\n",
    "    sns.set(style= 'whitegrid')\n",
    "    sns.barplot(x = x.index, y = 'target', data = x, palette = 'spring')\n",
    "    plt.xticks(rotation = 90)\n",
    "    plt.title(col+'_Graph')\n",
    "    plt.xlabel(col)\n",
    "    plt.ylabel(\"proportion of '1'\")\n",
    "    plt.savefig(col+'.png', bbox_inches = 'tight')\n",
    "    plt.show()\n",
    "    plt.close()"
   ]
  },
  {
   "cell_type": "markdown",
   "metadata": {},
   "source": [
    "***NOTES: All 'Product'vars have an impact on target variable (Product_brief_category shows lowest impact as per proportions). Variables with broader and suitable categories as per preliminary exploration may be included***"
   ]
  },
  {
   "cell_type": "markdown",
   "metadata": {},
   "source": [
    "#### 7.. Location"
   ]
  },
  {
   "cell_type": "code",
   "execution_count": null,
   "metadata": {
    "scrolled": false
   },
   "outputs": [],
   "source": [
    "for col in Location:\n",
    "    plt.figure(figsize= (10,5))\n",
    "    x = pd.DataFrame(df_merged.groupby(col).target.mean()*100)\n",
    "    sns.set(style= 'whitegrid')\n",
    "    sns.barplot(x = x.index, y = 'target', data = x, palette = 'spring')\n",
    "    plt.xticks(rotation = 90)\n",
    "    plt.title(col+'_Graph')\n",
    "    plt.xlabel(col)\n",
    "    plt.ylabel(\"proportion of '1'\")\n",
    "    plt.savefig(col+'.png', bbox_inches = 'tight')\n",
    "    plt.show()\n",
    "    plt.close()"
   ]
  },
  {
   "cell_type": "markdown",
   "metadata": {},
   "source": [
    "***NOTES: All 'Location'vars have an impact on target variable. Variables with broader and suitable categories as per preliminary exploration may be included (STATNAME may also be included)***"
   ]
  },
  {
   "cell_type": "markdown",
   "metadata": {},
   "source": [
    "#### 8. Time"
   ]
  },
  {
   "cell_type": "code",
   "execution_count": null,
   "metadata": {},
   "outputs": [],
   "source": [
    "for col in Time:\n",
    "    plt.figure(figsize= (10,5))\n",
    "    x = pd.DataFrame(df_merged.groupby(col).target.mean()*100)\n",
    "    sns.set(style= 'whitegrid')\n",
    "    sns.barplot(x = x.index, y = 'target', data = x, palette = 'spring')\n",
    "    plt.xticks(rotation = 60)\n",
    "    plt.title(col+'_Graph')\n",
    "    plt.xlabel(col)\n",
    "    plt.ylabel(\"proportion of '1'\")\n",
    "    plt.savefig(col+'.png', bbox_inches = 'tight')\n",
    "    plt.show()\n",
    "    plt.close()"
   ]
  },
  {
   "cell_type": "markdown",
   "metadata": {},
   "source": [
    "***NOTES: All 'Time'vars have an impact on target variable. All may be included in the model***"
   ]
  },
  {
   "cell_type": "markdown",
   "metadata": {},
   "source": [
    "#### 9. Flag"
   ]
  },
  {
   "cell_type": "code",
   "execution_count": null,
   "metadata": {},
   "outputs": [],
   "source": [
    "for col in Flag:\n",
    "    plt.figure(figsize= (10,5))\n",
    "    x = pd.DataFrame(df_merged.groupby(col).target.mean()*100)\n",
    "    sns.set(style= 'whitegrid')\n",
    "    sns.barplot(x = x.index, y = 'target', data = x, palette = 'spring')\n",
    "    plt.xticks(rotation = 60)\n",
    "    plt.title(col+'_Graph')\n",
    "    plt.xlabel(col)\n",
    "    plt.ylabel(\"proportion of '1'\")\n",
    "    plt.savefig(col+'.png', bbox_inches = 'tight')\n",
    "    plt.show()\n",
    "    plt.close()"
   ]
  },
  {
   "cell_type": "markdown",
   "metadata": {},
   "source": [
    "***NOTES: All 'Flag'vars have an impact on target variable. All may be included in the model***"
   ]
  },
  {
   "cell_type": "markdown",
   "metadata": {},
   "source": [
    "#### 10. Marital Status"
   ]
  },
  {
   "cell_type": "code",
   "execution_count": null,
   "metadata": {},
   "outputs": [],
   "source": [
    "for col in Mar_stat:\n",
    "    plt.figure(figsize= (10,5))\n",
    "    x = pd.DataFrame(df_merged.groupby(col).target.mean()*100)\n",
    "    sns.set(style= 'whitegrid')\n",
    "    sns.barplot(x = x.index, y = 'target', data = x, palette = 'spring')\n",
    "    plt.xticks(rotation = 60)\n",
    "    plt.title(col+'_Graph')\n",
    "    plt.xlabel(col)\n",
    "    plt.ylabel(\"proportion of '1'\")\n",
    "    plt.savefig(col+'.png', bbox_inches = 'tight')\n",
    "    plt.show()\n",
    "    plt.close()"
   ]
  },
  {
   "cell_type": "markdown",
   "metadata": {},
   "source": [
    "***NOTES: Marital status has an impact on target variable. May be included in the model***"
   ]
  },
  {
   "cell_type": "markdown",
   "metadata": {},
   "source": [
    "## Observation:-\n",
    "\n",
    "    - Amounts : significant impact on target variable\n",
    "    - Gender: low impact on target variable\n",
    "    - Education : moderate impact on target variable\n",
    "    - Occupation : significant impact on target variable (especially more detailed categories: Occupation)\n",
    "    - Internal categorization: moderate impact on target variable\n",
    "    - Product : siginificant impact on target variable (especially more detailed categories: CUST_prod_cat)\n",
    "    - Location : siginificant impact on target variable (STATNAME, DSTNAME, city)\n",
    "    - Time : siginificant impact on target variable (Age, Policy Term)\n",
    "    - Flags : moderate impact on target variable\n",
    "    - Marital status: moderate impact on target variable"
   ]
  },
  {
   "cell_type": "code",
   "execution_count": null,
   "metadata": {},
   "outputs": [],
   "source": []
  }
 ],
 "metadata": {
  "kernelspec": {
   "display_name": "Python 3",
   "language": "python",
   "name": "python3"
  },
  "language_info": {
   "codemirror_mode": {
    "name": "ipython",
    "version": 3
   },
   "file_extension": ".py",
   "mimetype": "text/x-python",
   "name": "python",
   "nbconvert_exporter": "python",
   "pygments_lexer": "ipython3",
   "version": "3.7.6"
  }
 },
 "nbformat": 4,
 "nbformat_minor": 2
}
