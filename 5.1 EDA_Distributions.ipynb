{
 "cells": [
  {
   "cell_type": "markdown",
   "metadata": {},
   "source": [
    "# Purpose and Observation"
   ]
  },
  {
   "cell_type": "markdown",
   "metadata": {},
   "source": [
    "## Purpose:\n",
    "    - Continuous Variables distributions\n",
    "\n",
    "\n",
    "\n"
   ]
  },
  {
   "cell_type": "markdown",
   "metadata": {},
   "source": [
    "# Import Libraries"
   ]
  },
  {
   "cell_type": "code",
   "execution_count": null,
   "metadata": {},
   "outputs": [],
   "source": [
    "import pandas as pd\n",
    "import numpy as np\n",
    "import seaborn as sns\n",
    "import matplotlib.pyplot as plt\n",
    "%matplotlib inline\n",
    "import csv\n"
   ]
  },
  {
   "cell_type": "markdown",
   "metadata": {},
   "source": [
    "# Read Clean and Missing Values Treated Data"
   ]
  },
  {
   "cell_type": "markdown",
   "metadata": {},
   "source": [
    "#### Moving ahead with merged dataset.\n",
    "**dataset used Merged_clean_and_dropped: Merged cleaned, continuous variables imputed with mean, rest recordes with NaN dropped**"
   ]
  },
  {
   "cell_type": "code",
   "execution_count": null,
   "metadata": {},
   "outputs": [],
   "source": [
    "df_merged = pd.read_csv('Dataset_model.csv')\n",
    "\n",
    "df_merged[\"RCD\"] = pd.to_datetime(df_merged[\"RCD\"])\n",
    "\n"
   ]
  },
  {
   "cell_type": "markdown",
   "metadata": {},
   "source": [
    "# Descriptive stats for reference"
   ]
  },
  {
   "cell_type": "code",
   "execution_count": null,
   "metadata": {
    "scrolled": true
   },
   "outputs": [],
   "source": [
    "with pd.option_context('display.max_columns', None):\n",
    "    pd.options.display.float_format = \"{:.2f}\".format\n",
    "    display(df_merged.head())\n",
    "    display(df_merged.describe())\n",
    "    display(df_merged.info())"
   ]
  },
  {
   "cell_type": "markdown",
   "metadata": {},
   "source": [
    "# EDA"
   ]
  },
  {
   "cell_type": "markdown",
   "metadata": {},
   "source": [
    "### Variables and count"
   ]
  },
  {
   "cell_type": "code",
   "execution_count": null,
   "metadata": {},
   "outputs": [],
   "source": [
    "print('All variables:', df_merged.columns)\n",
    "print('Total number of variables: ', len(df_merged.columns))\n"
   ]
  },
  {
   "cell_type": "markdown",
   "metadata": {},
   "source": [
    "### Variables explored to check impact on target variable\n",
    "- Variables to explore (32)\n",
    "    - Amounts (4) : Owner_Salary, afyp, premium, sum_assured\n",
    "    - Gender (2): Own_gender, LA_gender\n",
    "    - Education (2): Own_Edu, Own_Education\n",
    "    - Occupation (4):  Occ_Profile, Occupation_Group, own_occupation, Occupation\n",
    "    - Internal categorization (2): risk_status, contract_type \n",
    "    - Product (5): Product_Description, Par_NonPar, Product_brief_Category, Product_Club_Manual, CUST_prod_cat\n",
    "    - Location (5): city, DSTNAME, STATNAME, Focus_region, City_classification\n",
    "    - Time (4): Age, PPT, Policy_term, billing_frequency\n",
    "    - Flags (3): channel_flag, Med_Flag, ECS_flag\n",
    "    - Marital Status (1): Martial_status \n",
    "- Variables not suitable to be explored on:\n",
    "    - Identifiers (2): policy_number, policy_owner_number\n",
    "    - Date (1): RCD\n",
    "    - Target variable itself and frequency (2): Freq, target"
   ]
  },
  {
   "cell_type": "markdown",
   "metadata": {},
   "source": [
    "### Binning Continuous Variables"
   ]
  },
  {
   "cell_type": "markdown",
   "metadata": {},
   "source": [
    "## Percentage of 1s and 0s in target variable"
   ]
  },
  {
   "cell_type": "code",
   "execution_count": null,
   "metadata": {},
   "outputs": [],
   "source": [
    "target_vals = df_merged['target'].value_counts()\n",
    "target_vals = pd.DataFrame(target_vals)"
   ]
  },
  {
   "cell_type": "code",
   "execution_count": null,
   "metadata": {},
   "outputs": [],
   "source": [
    "fig1, ax1 = plt.subplots()\n",
    "ax1.pie(target_vals['target'], labels = target_vals.index, explode = (0,0.1), autopct = '%1.1f%%', startangle = 90)\n",
    "ax1.axis('equal')\n",
    "plt.savefig('Targetpie.png', bbox_inches = 'tight')\n",
    "plt.show()"
   ]
  },
  {
   "cell_type": "markdown",
   "metadata": {},
   "source": [
    "# Distributions"
   ]
  },
  {
   "cell_type": "code",
   "execution_count": null,
   "metadata": {},
   "outputs": [],
   "source": [
    "#set graph aesthetics\n",
    "sns.set_style('whitegrid')"
   ]
  },
  {
   "cell_type": "markdown",
   "metadata": {},
   "source": [
    "### 1. age"
   ]
  },
  {
   "cell_type": "code",
   "execution_count": null,
   "metadata": {},
   "outputs": [],
   "source": [
    "plt.figure(figsize= (20,10))\n",
    "sns.countplot(x= 'age', data= df_merged)\n",
    "plt.savefig('age_distribution1.png', bbox_inches = 'tight')\n",
    "plt.show()"
   ]
  },
  {
   "cell_type": "code",
   "execution_count": null,
   "metadata": {},
   "outputs": [],
   "source": [
    "#histogram\n",
    "sns.distplot(df_merged['age'], color = 'red',\n",
    "             kde_kws = {\"color\": \"k\", \"lw\": 3},\n",
    "            hist_kws = {\"linewidth\": 3, \"alpha\": 1, \"color\": \"c\"})\n",
    "plt.savefig('age_distribution2.png', bbox_inches = 'tight')\n",
    "plt.show()"
   ]
  },
  {
   "cell_type": "markdown",
   "metadata": {},
   "source": [
    "### 2. Policy_term"
   ]
  },
  {
   "cell_type": "code",
   "execution_count": null,
   "metadata": {},
   "outputs": [],
   "source": [
    "plt.figure(figsize= (20,10))\n",
    "sns.countplot(x= 'Policy_term', data= df_merged)\n",
    "plt.savefig('Policy_termdistribution1.png', bbox_inches = 'tight')\n",
    "plt.show()"
   ]
  },
  {
   "cell_type": "code",
   "execution_count": null,
   "metadata": {},
   "outputs": [],
   "source": [
    "sns.distplot(df_merged['Policy_term'],\n",
    "             kde_kws = {\"color\": \"k\", \"lw\": 3},\n",
    "            hist_kws = {\"linewidth\": 3, \"alpha\": 0.5, \"color\": \"c\"})\n",
    "plt.savefig('Policy_term_histogram.png', bbox_inches = 'tight')\n",
    "plt.show()"
   ]
  },
  {
   "cell_type": "markdown",
   "metadata": {},
   "source": [
    "### 3. PPT"
   ]
  },
  {
   "cell_type": "code",
   "execution_count": null,
   "metadata": {},
   "outputs": [],
   "source": [
    "plt.figure(figsize= (20,10))\n",
    "sns.countplot(x= 'PPT', data= df_merged)\n",
    "plt.savefig('PPT_distribution1.png', bbox_inches = 'tight')\n",
    "plt.show()"
   ]
  },
  {
   "cell_type": "code",
   "execution_count": null,
   "metadata": {},
   "outputs": [],
   "source": [
    "sns.distplot(df_merged['PPT'],\n",
    "             kde_kws = {\"color\": \"k\", \"lw\": 3},\n",
    "            hist_kws = {\"linewidth\": 3, \"alpha\": 0.5, \"color\": \"c\"})\n",
    "plt.savefig('PPT_histogram.png', bbox_inches = 'tight')\n",
    "plt.show()"
   ]
  },
  {
   "cell_type": "markdown",
   "metadata": {},
   "source": [
    "### 4. billing_frequency"
   ]
  },
  {
   "cell_type": "code",
   "execution_count": null,
   "metadata": {},
   "outputs": [],
   "source": [
    "plt.figure(figsize= (20,10))\n",
    "sns.countplot(x= 'billing_frequency', data= df_merged)\n",
    "plt.savefig('billing_frequency_distribution.png', bbox_inches = 'tight')\n",
    "plt.show()"
   ]
  },
  {
   "cell_type": "code",
   "execution_count": null,
   "metadata": {},
   "outputs": [],
   "source": [
    "sns.distplot(df_merged['billing_frequency'],\n",
    "             kde_kws = {\"color\": \"k\", \"lw\": 3},\n",
    "            hist_kws = {\"linewidth\": 3, \"alpha\": 0.5, \"color\": \"c\"})\n",
    "\n",
    "plt.savefig('billing_frequency_histogram.png', bbox_inches = 'tight')\n",
    "plt.show()"
   ]
  },
  {
   "cell_type": "markdown",
   "metadata": {},
   "source": [
    "## 5. Frequency"
   ]
  },
  {
   "cell_type": "code",
   "execution_count": null,
   "metadata": {},
   "outputs": [],
   "source": [
    "plt.figure(figsize= (20,10))\n",
    "sns.countplot(x= 'Freq', data= df_merged)\n",
    "plt.savefig('Freq_distribution.png', bbox_inches = 'tight')\n",
    "plt.show()"
   ]
  },
  {
   "cell_type": "markdown",
   "metadata": {},
   "source": [
    "## 5. Amount distributions\n",
    "\n",
    "Owner_Salary, premium, afyp, sum_assured"
   ]
  },
  {
   "cell_type": "code",
   "execution_count": null,
   "metadata": {},
   "outputs": [],
   "source": [
    "#prepare to plot\n",
    "l1 = list(set(df_merged[df_merged['Owner_salary'] > df_merged['Owner_salary'].quantile(0.99)].index)\n",
    "          .union(set(df_merged[df_merged['Owner_salary'] < df_merged['Owner_salary'].quantile(0.01)].index)))\n",
    "print('No of records to be excluded considering Owner_Salary:', len(l1), '\\n',\n",
    "     'percentage:', 100*len(l1)/len(df_merged))\n",
    "\n",
    "l2 = list(set(df_merged[df_merged['afyp'] > df_merged['afyp'].quantile(0.99)].index)\n",
    "          .union(set(df_merged[df_merged['afyp'] < df_merged['afyp'].quantile(0.01)].index)))\n",
    "print('No of records to be excluded considering afyp:', len(l2), '\\n',\n",
    "     'percentage:', 100*len(l2)/len(df_merged))\n",
    "\n",
    "l3 = list(set(df_merged[df_merged['sum_assured'] > df_merged['sum_assured'].quantile(0.99)].index)\n",
    "          .union(set(df_merged[df_merged['sum_assured'] < df_merged['sum_assured'].quantile(0.01)].index)))\n",
    "print('No of records to be excluded considering sum_assured:', len(l3), '\\n',\n",
    "     'percentage:', 100*len(l3)/len(df_merged))\n",
    "\n",
    "l4 = list(set(df_merged[df_merged['premium'] > df_merged['premium'].quantile(0.99)].index)\n",
    "                .union(set(df_merged[df_merged['premium'] < df_merged['premium'].quantile(0.01)].index)))\n",
    "print('No of records to be excluded considering premium:', len(l4), '\\n',\n",
    "     'percentage:', 100*len(l4)/len(df_merged))\n",
    "\n",
    "lexclude = list(set(l1).union(set(l2), set(l3), set(l4)))\n",
    "print('No of records to be excluded considering all (union):', len(lexclude), '\\n',\n",
    "     'percentage:', 100*len(lexclude)/len(df_merged))\n",
    "\n",
    "#create dataframe excluding these records.\n",
    "#this is created only to plot histograms of amounts and PairPlot.\n",
    "df_graph = df_merged.drop(lexclude, axis = 'index')"
   ]
  },
  {
   "cell_type": "code",
   "execution_count": null,
   "metadata": {},
   "outputs": [],
   "source": [
    "#Owner_salary\n",
    "sns.distplot(df_graph['Owner_salary'],\n",
    "             kde_kws = {\"color\": \"k\", \"lw\": 2},\n",
    "            hist_kws = {\"linewidth\": 3, \"alpha\": 0.5, \"color\": \"c\"})\n",
    "\n",
    "plt.savefig('Owner_salary_histogram.png', bbox_inches = 'tight')\n",
    "plt.show()"
   ]
  },
  {
   "cell_type": "code",
   "execution_count": null,
   "metadata": {},
   "outputs": [],
   "source": [
    "#sum_assured\n",
    "sns.distplot(df_graph['sum_assured'], \n",
    "             kde_kws = {\"color\": \"k\", \"lw\": 3},\n",
    "            hist_kws = {\"linewidth\": 3, \"alpha\": 0.5, \"color\": \"c\"})\n",
    "plt.savefig('sum_assured_histogram.png', bbox_inches = 'tight')\n",
    "plt.show()"
   ]
  },
  {
   "cell_type": "code",
   "execution_count": null,
   "metadata": {},
   "outputs": [],
   "source": [
    "#premium\n",
    "sns.distplot(df_graph['premium'],\n",
    "             kde_kws = {\"color\": \"k\", \"lw\": 3},\n",
    "            hist_kws = {\"linewidth\": 3, \"alpha\": 0.5, \"color\": \"c\"})\n",
    "plt.savefig('premium_histogram.png', bbox_inches = 'tight')\n",
    "plt.show()"
   ]
  },
  {
   "cell_type": "code",
   "execution_count": null,
   "metadata": {},
   "outputs": [],
   "source": [
    "#afyp\n",
    "sns.distplot(df_graph['afyp'],\n",
    "             kde_kws = {\"color\": \"k\", \"lw\": 3},\n",
    "            hist_kws = {\"linewidth\": 3, \"alpha\": 0.5, \"color\": \"c\"})\n",
    "plt.savefig('afyp_histogram.png', bbox_inches = 'tight')\n",
    "plt.show()"
   ]
  },
  {
   "cell_type": "markdown",
   "metadata": {},
   "source": [
    "## Pairplot"
   ]
  },
  {
   "cell_type": "code",
   "execution_count": null,
   "metadata": {},
   "outputs": [],
   "source": [
    "sns.pairplot(data = df_graph, \n",
    "            vars = ['premium', 'afyp','sum_assured', 'Owner_salary', 'age',\n",
    "                    'Policy_term', 'PPT', 'billing_frequency', 'Freq'],\n",
    "            hue = 'target', kind = \"scatter\",\n",
    "            markers = ['+', 'o'],\n",
    "            plot_kws= {'alpha':0.5})"
   ]
  },
  {
   "cell_type": "code",
   "execution_count": null,
   "metadata": {},
   "outputs": [],
   "source": []
  }
 ],
 "metadata": {
  "kernelspec": {
   "display_name": "Python 3",
   "language": "python",
   "name": "python3"
  },
  "language_info": {
   "codemirror_mode": {
    "name": "ipython",
    "version": 3
   },
   "file_extension": ".py",
   "mimetype": "text/x-python",
   "name": "python",
   "nbconvert_exporter": "python",
   "pygments_lexer": "ipython3",
   "version": "3.7.6"
  }
 },
 "nbformat": 4,
 "nbformat_minor": 2
}
