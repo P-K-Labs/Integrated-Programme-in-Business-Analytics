{
 "cells": [
  {
   "cell_type": "markdown",
   "metadata": {},
   "source": [
    "# Market Basket analysis using ranking"
   ]
  },
  {
   "cell_type": "markdown",
   "metadata": {},
   "source": [
    "## Import Libraries"
   ]
  },
  {
   "cell_type": "code",
   "execution_count": 1,
   "metadata": {},
   "outputs": [],
   "source": [
    "# Import modules that are used in this notebook. \n",
    "# Some additions would be there later on depending on when a need arises\n",
    "\n",
    "import pandas as pd\n",
    "import numpy as np\n",
    "import matplotlib.pyplot as plt\n",
    "%matplotlib inline\n",
    "import seaborn as sns\n",
    "\n",
    "pd.pandas.set_option('display.max_columns',None)"
   ]
  },
  {
   "cell_type": "markdown",
   "metadata": {},
   "source": [
    "## Read data"
   ]
  },
  {
   "cell_type": "code",
   "execution_count": 3,
   "metadata": {},
   "outputs": [
    {
     "name": "stdout",
     "output_type": "stream",
     "text": [
      "(812914, 36)\n"
     ]
    }
   ],
   "source": [
    "#read the original data file and understand the data\n",
    "dataset_orig=pd.read_csv('Merged_clean.csv')\n",
    "print(dataset_orig.shape)"
   ]
  },
  {
   "cell_type": "markdown",
   "metadata": {},
   "source": [
    "## Get subset of only multi policy holders"
   ]
  },
  {
   "cell_type": "code",
   "execution_count": 4,
   "metadata": {},
   "outputs": [],
   "source": [
    "#from original dataset get all those records where customers have more then one policy\n",
    "df_multi = dataset_orig[dataset_orig['Freq'] > 1].sort_values(['policy_owner_number','RCD'])"
   ]
  },
  {
   "cell_type": "markdown",
   "metadata": {},
   "source": [
    "## within each group give a rank order"
   ]
  },
  {
   "cell_type": "code",
   "execution_count": 5,
   "metadata": {},
   "outputs": [
    {
     "name": "stdout",
     "output_type": "stream",
     "text": [
      "<class 'pandas.core.frame.DataFrame'>\n",
      "Int64Index: 109476 entries, 3 to 812911\n",
      "Data columns (total 37 columns):\n",
      "policy_owner_number       109476 non-null int64\n",
      "policy_number             109476 non-null int64\n",
      "RCD                       109476 non-null object\n",
      "premium                   109476 non-null int64\n",
      "afyp                      109476 non-null int64\n",
      "sum_assured               109476 non-null int64\n",
      "Owner_salary              108071 non-null float64\n",
      "Marital_status            108859 non-null object\n",
      "Own_Education             99288 non-null object\n",
      "Own_Edu                   99288 non-null object\n",
      "Own_gender                108859 non-null object\n",
      "own_occupation            108735 non-null object\n",
      "Occupation                108632 non-null object\n",
      "Occupation_Group          108632 non-null object\n",
      "billing_frequency         109476 non-null int64\n",
      "ECS_flag                  109476 non-null object\n",
      "PPT                       109476 non-null int64\n",
      "risk_status               109476 non-null object\n",
      "contract_type             109476 non-null object\n",
      "Product_Description       109476 non-null object\n",
      "Product_brief_category    109476 non-null object\n",
      "Product_Club_Manual       109476 non-null object\n",
      "Focus_region              109427 non-null object\n",
      "Med_Flag                  109476 non-null object\n",
      "city                      109476 non-null object\n",
      "CUST_prod_cat             109476 non-null object\n",
      "Policy_term               109476 non-null int64\n",
      "LA_gender                 109476 non-null object\n",
      "LA_DOB                    109476 non-null object\n",
      "channel_flag              109476 non-null object\n",
      "Occ_Profile               108632 non-null object\n",
      "Par_NonPar                109476 non-null object\n",
      "DSTNAME                   109474 non-null object\n",
      "STATNAME                  109474 non-null object\n",
      "City_classification       109474 non-null object\n",
      "Freq                      109476 non-null int64\n",
      "rank                      109476 non-null int64\n",
      "dtypes: float64(1), int64(10), object(26)\n",
      "memory usage: 31.7+ MB\n"
     ]
    }
   ],
   "source": [
    "df_multi['rank'] = df_multi.groupby(['policy_owner_number']).cumcount()+1\n",
    "df_multi.info()"
   ]
  },
  {
   "cell_type": "code",
   "execution_count": 9,
   "metadata": {},
   "outputs": [
    {
     "name": "stdout",
     "output_type": "stream",
     "text": [
      "\u001b[1m Product_Description \u001b[0m : \n",
      " GURANTEED INCOME                 0.231679\n",
      "NEW FULFILLING LIFE ANTI. W/L    0.157761\n",
      "SECURED INCOME INSURANCE PLUS    0.104750\n",
      "EXIDE SECURED INCOME INS - RP    0.064122\n",
      "EXIDE STAR LIFE                  0.045632\n",
      "Name: Product_Description, dtype: float64\n",
      "#########################\n",
      "\u001b[1m Product_brief_category \u001b[0m : \n",
      " TRADITIONAL    0.874385\n",
      "ULIP           0.050530\n",
      "TERM           0.040522\n",
      "PENSION        0.025042\n",
      "HEALTH         0.008906\n",
      "Name: Product_brief_category, dtype: float64\n",
      "#########################\n",
      "\u001b[1m Product_Club_Manual \u001b[0m : \n",
      " GUARANTEED INCOME    0.231679\n",
      "SECURED INCOME       0.180195\n",
      "FULFILLING LIFE      0.157761\n",
      "CREATING LIFE        0.093215\n",
      "STAR LIFE            0.045632\n",
      "Name: Product_Club_Manual, dtype: float64\n",
      "#########################\n",
      "\u001b[1m CUST_prod_cat \u001b[0m : \n",
      " TRADITIONAL               0.689949\n",
      "TRADITIONALULIP           0.091158\n",
      "TRADITIONALTERM           0.069975\n",
      "TRADITIONALPENSION        0.041539\n",
      "TRADITIONALULIPPENSION    0.023113\n",
      "Name: CUST_prod_cat, dtype: float64\n",
      "#########################\n",
      "\u001b[1m Par_NonPar \u001b[0m : \n",
      " PAR        0.550509\n",
      "NON-PAR    0.373919\n",
      "ULIP       0.050530\n",
      "PENSION    0.024173\n",
      "ANNUITY    0.000869\n",
      "Name: Par_NonPar, dtype: float64\n",
      "#########################\n"
     ]
    }
   ],
   "source": [
    "#display the data\n",
    "print('\\033[1m Product_Description \\033[0m : \\n',df_multi[df_multi['rank']==1]['Product_Description'].value_counts(normalize=True).head(5))\n",
    "print('#########################')\n",
    "\n",
    "print('\\033[1m Product_brief_category \\033[0m : \\n',df_multi[df_multi['rank']==1]['Product_brief_category'].value_counts(normalize=True).head(5))\n",
    "print('#########################')\n",
    "\n",
    "print('\\033[1m Product_Club_Manual \\033[0m : \\n',df_multi[df_multi['rank']==1]['Product_Club_Manual'].value_counts(normalize=True).head(5))\n",
    "print('#########################')\n",
    "\n",
    "print('\\033[1m CUST_prod_cat \\033[0m : \\n',df_multi[df_multi['rank']==1]['CUST_prod_cat'].value_counts(normalize=True).head(5))\n",
    "print('#########################')\n",
    "\n",
    "print('\\033[1m Par_NonPar \\033[0m : \\n',df_multi[df_multi['rank']==1]['Par_NonPar'].value_counts(normalize=True).head(5))\n",
    "print('#########################')"
   ]
  },
  {
   "cell_type": "markdown",
   "metadata": {},
   "source": [
    "## Find the customers who have bought the top first policy from the list"
   ]
  },
  {
   "cell_type": "code",
   "execution_count": 15,
   "metadata": {},
   "outputs": [],
   "source": [
    "# so if first policy is guranteed income, get the counts of the second bought policy\n",
    "cust_ids_Product_Description = df_multi[(df_multi['rank']==1)& \n",
    "                    (df_multi['Product_Description'] == 'GURANTEED INCOME')  ]['policy_owner_number']\n",
    "\n",
    "df_multi_2_Product_Description = df_multi[(df_multi['rank']==2) &\n",
    "                     (df_multi.policy_owner_number.isin(cust_ids_Product_Description))]\n",
    "\n",
    "\n",
    "cust_ids_Product_brief_category = df_multi[(df_multi['rank']==1)& \n",
    "                    (df_multi['Product_brief_category'] == 'TRADITIONAL')  ]['policy_owner_number']\n",
    "\n",
    "df_multi_2_Product_brief_category = df_multi[(df_multi['rank']==2) &\n",
    "                     (df_multi.policy_owner_number.isin(cust_ids_Product_brief_category))]\n",
    "\n",
    "cust_ids_Product_Club_Manual = df_multi[(df_multi['rank']==1)& \n",
    "                    (df_multi['Product_Club_Manual'] == 'GUARANTEED INCOME')  ]['policy_owner_number']\n",
    "df_multi_2_Product_Club_Manual = df_multi[(df_multi['rank']==2) &\n",
    "                     (df_multi.policy_owner_number.isin(cust_ids_Product_Club_Manual))]\n",
    "\n",
    "cust_ids_CUST_prod_cat = df_multi[(df_multi['rank']==1)& \n",
    "                    (df_multi['CUST_prod_cat'] == 'TRADITIONAL')  ]['policy_owner_number']\n",
    "df_multi_2_CUST_prod_cat = df_multi[(df_multi['rank']==2) &\n",
    "                     (df_multi.policy_owner_number.isin(cust_ids_CUST_prod_cat))]\n",
    "\n",
    "cust_ids_Par_NonPar = df_multi[(df_multi['rank']==1)& \n",
    "                    (df_multi['Par_NonPar'] == 'PAR')  ]['policy_owner_number']\n",
    "df_multi_2_Par_NonPar = df_multi[(df_multi['rank']==2) &\n",
    "                     (df_multi.policy_owner_number.isin(cust_ids_Par_NonPar))]"
   ]
  },
  {
   "cell_type": "markdown",
   "metadata": {},
   "source": [
    "## Check the highest"
   ]
  },
  {
   "cell_type": "code",
   "execution_count": 16,
   "metadata": {},
   "outputs": [
    {
     "name": "stdout",
     "output_type": "stream",
     "text": [
      "GURANTEED INCOME    0.63143\n",
      "Name: Product_Description, dtype: float64\n",
      "TRADITIONAL    0.886289\n",
      "Name: Product_brief_category, dtype: float64\n",
      "GUARANTEED INCOME    0.63143\n",
      "Name: Product_Club_Manual, dtype: float64\n",
      "TRADITIONAL    1.0\n",
      "Name: CUST_prod_cat, dtype: float64\n",
      "PAR    0.686773\n",
      "Name: Par_NonPar, dtype: float64\n"
     ]
    }
   ],
   "source": [
    "print(df_multi_2_Product_Description['Product_Description'].value_counts(normalize=True).head(1))\n",
    "print(df_multi_2_Product_brief_category['Product_brief_category'].value_counts(normalize=True).head(1))\n",
    "print(df_multi_2_Product_Club_Manual['Product_Club_Manual'].value_counts(normalize=True).head(1))\n",
    "print(df_multi_2_CUST_prod_cat['CUST_prod_cat'].value_counts(normalize=True).head(1))\n",
    "print(df_multi_2_Par_NonPar['Par_NonPar'].value_counts(normalize=True).head(1))"
   ]
  },
  {
   "cell_type": "code",
   "execution_count": null,
   "metadata": {},
   "outputs": [],
   "source": [
    "#    Product_Description       Product_brief_category   Product_Club_Manual        CUST_prod_cat       Par_NonPar\n",
    "#1   GURANTEED INCOME(23.17%)  TRADITIONAL(87.44%)      GUARANTEED INCOME(23.17%)  TRADITIONAL(69%)    PAR(55.05%)\n",
    "#2   GURANTEED INCOME(63.14%)  TRADITIONAL(88.63%)      GUARANTEED INCOME(63.14%)  TRADITIONAL(100%)   PAR(68.68%)"
   ]
  }
 ],
 "metadata": {
  "kernelspec": {
   "display_name": "Python 3",
   "language": "python",
   "name": "python3"
  },
  "language_info": {
   "codemirror_mode": {
    "name": "ipython",
    "version": 3
   },
   "file_extension": ".py",
   "mimetype": "text/x-python",
   "name": "python",
   "nbconvert_exporter": "python",
   "pygments_lexer": "ipython3",
   "version": "3.7.6"
  }
 },
 "nbformat": 4,
 "nbformat_minor": 2
}
