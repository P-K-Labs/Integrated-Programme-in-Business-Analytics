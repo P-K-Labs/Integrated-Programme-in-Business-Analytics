{
 "cells": [
  {
   "cell_type": "markdown",
   "metadata": {},
   "source": [
    "# Purpose and Observation"
   ]
  },
  {
   "cell_type": "markdown",
   "metadata": {},
   "source": [
    "## Purpose:\n",
    "    - Preliminary data exploration to get insights on columns to eliminate\n",
    "    \n",
    "## Observations:-\n",
    "\n",
    "### Following variables are compared to get a better understanding of dataset\n",
    "##### Categorical variables:-\n",
    "    - Gender (2): Own_gender, LA_gender\n",
    "    - Education (2): Own_Edu, Own_Education\n",
    "    - Occupation (4):  Occ_Profile, Occupation_Group, own_occupation, Occupation\n",
    "    - Product (5): Product_Description, Par_NonPar, Product_brief_Category, Product_Club_Manual, CUST_prod_cat\n",
    "    - Location (5): city, DSTNAME, STATNAME, Focus_region, City_classification\n",
    "    - Flags (3): channel_flag, Med_Flag, ECS_flag\n",
    "##### Contiunuous variables:-\n",
    "    - Owner_salary, afyp, premium, sum_assured\n",
    "   \n",
    "## Main Conclusions:-\n",
    "\n",
    "### Categorical variables:-\n",
    "    \n",
    "   - Gender: \n",
    "        - Own_gender has some missing values.\n",
    "        - LA_gender doesn't have any missing value, thus, making it a better  category to retain in case of a conflict\n",
    "    - Education: \n",
    "        - Own_Education may be dropped, which contains abbreviations of column Own_Edu. \n",
    "        - We may retain Own_Edu\n",
    "    - Occupation: \n",
    "        - own_occupation may be dropped, which contains abbreviations of column Occupation. \n",
    "        - Of the remaining three, Occupation is the most detailed category. Occ_Profile seems to be the broadest category\n",
    "    - Product: \n",
    "        - Product_Description is the most detailed category. \n",
    "        - Product_Club_Manual second most detailed category.\n",
    "        - Prdouct_brief_category appears to be the broadest appropriate classification. \n",
    "            - Also, 'SAFAL JEEVAN' is a part of 'TRADITIONAL' policies\n",
    "     - Location:\n",
    "         - from most detailed to broadest, the categories are city, DSTNAME, STATNAME, City_Classificaiton, Focus_Region\n",
    "         - City_classification: 'METRO' is not an appropriate title. It contains cities besides the 4 metros. 'MEGA' cities would be the appropriate name instead of METRO\n",
    "      - Flags: all categories are included for every product brief category\n",
    "\n",
    "### Continuous variables:-\n",
    "   **For Own_salary, afyp, premium, sum_assured**\n",
    "    - Graphs are highly skewed to right\n",
    "    - the values show a lot of variation.\n",
    "    - Hence, Mean Value can be used for imputation."
   ]
  },
  {
   "cell_type": "markdown",
   "metadata": {},
   "source": [
    "# Exploration steps"
   ]
  },
  {
   "cell_type": "markdown",
   "metadata": {},
   "source": [
    "### Categorical variables comparison: - \n",
    "   **Moving ahead with merged dataset**\n",
    "    - Gender:\n",
    "        - own gender, LA gender\n",
    "    - Education\n",
    "        - own edu, edu\n",
    "    - Occupation\n",
    "        - Occupation_Group, Occ_Profile, Occupation \n",
    "    - Products\n",
    "        -  Product_Description, Product_Club_Manual, CUST_prod_cat, Product_brief_category, PAR_nonPAR\n",
    "    - Location\n",
    "        - Focus region, STATNAME, DSTNAME, City_Classification, city\n",
    "    - Flags\n",
    "        - ECS flag, med flag, channel flag"
   ]
  },
  {
   "cell_type": "markdown",
   "metadata": {},
   "source": [
    "### Continuous variables exploration: - \n",
    "    - Explored Own_salary, afyp, premium, sum_assured"
   ]
  },
  {
   "cell_type": "markdown",
   "metadata": {},
   "source": [
    "# Import Libraries"
   ]
  },
  {
   "cell_type": "code",
   "execution_count": null,
   "metadata": {},
   "outputs": [],
   "source": [
    "import pandas as pd\n",
    "import numpy as np\n",
    "import seaborn as sns\n",
    "import matplotlib.pyplot as plt\n",
    "%matplotlib inline\n",
    "import csv\n"
   ]
  },
  {
   "cell_type": "markdown",
   "metadata": {},
   "source": [
    "# Read cleaned data"
   ]
  },
  {
   "cell_type": "markdown",
   "metadata": {},
   "source": [
    "#### Moving ahead with merged dataset"
   ]
  },
  {
   "cell_type": "code",
   "execution_count": null,
   "metadata": {},
   "outputs": [],
   "source": [
    "df_merged = pd.read_csv('Merged_clean.csv')\n",
    "\n",
    "df_merged[\"RCD\"] = pd.to_datetime(df_merged[\"RCD\"])\n"
   ]
  },
  {
   "cell_type": "code",
   "execution_count": null,
   "metadata": {},
   "outputs": [],
   "source": [
    "#commenting cleaning code\n",
    "\"\"\" Mentioning cleaning codes, remove quotations if dont have clean data file\n",
    "\n",
    "\n",
    "df_merged=pd.read_csv('merged.csv')\n",
    "\n",
    "\n",
    "#Marital_status, Own_Edu, Occupation_Group fix\n",
    "df_merged.replace(['N', 'N.A', 'MISSING'], np.nan, inplace=True )\n",
    "\n",
    "\n",
    "#STATNAME fix and Focus_region fix\n",
    "\n",
    "objectlistm = list(df_merged.select_dtypes('object').columns)\n",
    "for col in objectlistm:\n",
    "    df_merged[col] = df_merged[col].str.upper()\n",
    "\n",
    "\n",
    "# putting them under SOUTH\n",
    "df_merged['Focus_region'].replace(['KKG','ANDHRA','TAMIL NADU'], 'SOUTH', inplace = True)\n",
    "\n",
    "# RCD and LA_DOB fix\n",
    "df_merged[\"LA_DOB\"]= pd.to_datetime(df_merged[\"LA_DOB\"])\n",
    "df_merged[\"RCD\"] = pd.to_datetime(df_merged[\"RCD\"])\n",
    "\n",
    "\n",
    "#Float dtype fix\n",
    "floatlist = list(df_merged.select_dtypes('float').columns)\n",
    "display(df_merged.loc[:, floatlist])\n",
    "\n",
    "for col in floatlist:\n",
    "    df_merged.loc[:,col] = df_merged.loc[:,col].apply(np.ceil)\n",
    "    if df_merged.loc[:,col].isna().sum() == 0:\n",
    "        df_merged[col] = df_merged[col].astype('int64')\n",
    "\n",
    "#drop Unnamed:0\n",
    "x= \"Unnamed: 0\"\n",
    "\n",
    "df_merged.drop([x], axis=1, inplace=True)\n",
    "\n",
    "\"\"\""
   ]
  },
  {
   "cell_type": "markdown",
   "metadata": {},
   "source": [
    "# Descriptive stats for reference\n"
   ]
  },
  {
   "cell_type": "code",
   "execution_count": null,
   "metadata": {
    "scrolled": true
   },
   "outputs": [],
   "source": [
    "pd.options.display.float_format = \"{:.2f}\".format\n",
    "\n",
    "display(df_merged.describe())\n",
    "\n",
    "display(df_merged.info())"
   ]
  },
  {
   "cell_type": "markdown",
   "metadata": {},
   "source": [
    "## Check Missing values"
   ]
  },
  {
   "cell_type": "code",
   "execution_count": null,
   "metadata": {},
   "outputs": [],
   "source": [
    "#check all records with atleast one missing value\n",
    "nulls = df_merged.isnull().any(axis=1).sum()\n",
    "print(\"records with missing values: \", nulls)\n",
    "print(\"percentage records with missing values: \", 100*nulls/len(df_merged))"
   ]
  },
  {
   "cell_type": "code",
   "execution_count": null,
   "metadata": {},
   "outputs": [],
   "source": [
    "features_with_na=[features for features in df_merged.columns if df_merged[features].isnull().sum() >1]\n",
    "\n",
    "for feature in features_with_na:\n",
    "    print(feature, np.round(df_merged[feature].isnull().mean()*100,4), ' %missing values')"
   ]
  },
  {
   "cell_type": "markdown",
   "metadata": {},
   "source": [
    "## Categorical Variables Exploration"
   ]
  },
  {
   "cell_type": "markdown",
   "metadata": {},
   "source": [
    "**making cross tabulations to understand categorization.**"
   ]
  },
  {
   "cell_type": "code",
   "execution_count": null,
   "metadata": {},
   "outputs": [],
   "source": [
    "df_merged.select_dtypes('object').columns"
   ]
  },
  {
   "cell_type": "markdown",
   "metadata": {},
   "source": [
    "### 1. Gender: Own_gender, LA_gender"
   ]
  },
  {
   "cell_type": "code",
   "execution_count": null,
   "metadata": {},
   "outputs": [],
   "source": [
    "#Own_gender vs LA_gender\n",
    "\n",
    "display(pd.crosstab(df_merged['Own_gender'], df_merged['LA_gender']))\n",
    "print('Null values in Own_gender:', df_merged['Own_gender'].isnull().sum())\n",
    "print('Null values in LA_gender:', df_merged['LA_gender'].isnull().sum())"
   ]
  },
  {
   "cell_type": "markdown",
   "metadata": {},
   "source": [
    "***NOTES: LA_gender has no null values, though gives information about gender on person who is 'covered' rather than the proposer***"
   ]
  },
  {
   "cell_type": "markdown",
   "metadata": {},
   "source": [
    "### 2. Education:  Own_Edu, Own_Education"
   ]
  },
  {
   "cell_type": "code",
   "execution_count": null,
   "metadata": {},
   "outputs": [],
   "source": [
    "#Own_Edu vs Own_Education\n",
    "\n",
    "display(pd.crosstab(df_merged['Own_Education'],df_merged['Own_Edu']))\n",
    "print('Null values in Own_Education:', df_merged['Own_Education'].isnull().sum())\n",
    "print('Null values in Own_Edu:', df_merged['Own_Education'].isnull().sum())"
   ]
  },
  {
   "cell_type": "markdown",
   "metadata": {},
   "source": [
    "***NOTES: Either can be used as a single broad classification to be used further***"
   ]
  },
  {
   "cell_type": "markdown",
   "metadata": {},
   "source": [
    "### 3. Occupation: Occupation_Group, Occ_Profile, Occupation, Own_occupation.\n",
    "\n",
    "***Own_occupation is just abbreviations for Occupation. Skipping that comparison***"
   ]
  },
  {
   "cell_type": "code",
   "execution_count": null,
   "metadata": {},
   "outputs": [],
   "source": [
    "#Occupation_Group vs Occ_Profile\n",
    "\n",
    "display(pd.crosstab(df_merged['Occupation_Group'],df_merged['Occ_Profile']))\n",
    "print('Null values in Occupation_Group:', df_merged['Occupation_Group'].isnull().sum())\n",
    "print('Null values in Occ_Profile:', df_merged['Occ_Profile'].isnull().sum())"
   ]
  },
  {
   "cell_type": "code",
   "execution_count": null,
   "metadata": {},
   "outputs": [],
   "source": [
    "# Occ_Profile vs Occupation\n",
    "print('Null values in Occ_Profile:', df_merged['Occ_Profile'].isnull().sum())\n",
    "print('Null values in Occupation:', df_merged['Occupation'].isnull().sum())\n",
    "\n",
    "with pd.option_context('display.max_rows', None):\n",
    "    display(df_merged.groupby(['Occ_Profile','Occupation']).size())"
   ]
  },
  {
   "cell_type": "code",
   "execution_count": null,
   "metadata": {},
   "outputs": [],
   "source": [
    "# Occupation_Group vs Occupation\n",
    "# To see the differences of occupation categorized into Salaried-High, Salaried-Low, Salaried-Medium\n",
    "\n",
    "print('Null values in Occupation_Group:', df_merged['Occupation_Group'].isnull().sum())\n",
    "print('Null values in Occupation:', df_merged['Occupation'].isnull().sum())\n",
    "\n",
    "with pd.option_context('display.max_rows', None):\n",
    "    display(df_merged.groupby(['Occupation_Group','Occupation']).size())"
   ]
  },
  {
   "cell_type": "markdown",
   "metadata": {},
   "source": [
    "***NOTES: Occ_Profile appears to be the broadest category. Occupation is the most detailed category***"
   ]
  },
  {
   "cell_type": "markdown",
   "metadata": {},
   "source": [
    "### 4. Products: Product_Description, Product_Club_Manual, CUST_prod_cat, Product_brief_category, PAR_nonPAR"
   ]
  },
  {
   "cell_type": "code",
   "execution_count": null,
   "metadata": {
    "scrolled": true
   },
   "outputs": [],
   "source": [
    "#Product_Description vs Product_Club_Manual\n",
    "\n",
    "with pd.option_context('display.max_rows', None, 'display.max_columns', None ):\n",
    "    display(pd.crosstab(df_merged['Product_Description'], df_merged['Product_Club_Manual'], margins = True))"
   ]
  },
  {
   "cell_type": "markdown",
   "metadata": {},
   "source": [
    "***NOTES: Both are almost as detailed, though Product_Club_Manual seems more broad categorization***"
   ]
  },
  {
   "cell_type": "code",
   "execution_count": null,
   "metadata": {
    "scrolled": true
   },
   "outputs": [],
   "source": [
    "# grouped value counts view\n",
    "print('Null values in CUST_prod_cat:', df_merged['Product_Description'].isnull().sum())\n",
    "print('Null values in Product_brief_category:', df_merged['Product_Club_Manual'].isnull().sum())\n",
    "\n",
    "with pd.option_context('display.max_rows', None):\n",
    "    display(df_merged.groupby(['Product_Club_Manual','Product_Description']).size())"
   ]
  },
  {
   "cell_type": "code",
   "execution_count": null,
   "metadata": {
    "scrolled": true
   },
   "outputs": [],
   "source": [
    "#CUST_prod_cat vs Product_brief_category\n",
    "print('Null values in CUST_prod_cat:', df_merged['CUST_prod_cat'].isnull().sum())\n",
    "print('Null values in Product_brief_category:', df_merged['Product_brief_category'].isnull().sum())\n",
    "\n",
    "with pd.option_context('display.max_rows', None):\n",
    "    display(pd.crosstab(df_merged['CUST_prod_cat'], df_merged['Product_brief_category'], margins = True))\n"
   ]
  },
  {
   "cell_type": "markdown",
   "metadata": {},
   "source": [
    "***NOTES: Product_brief_category seems to be a suitable broad categorization out of the two. Also SAFAL JEEVAN appears to be TRADITIONAL insurance***"
   ]
  },
  {
   "cell_type": "code",
   "execution_count": null,
   "metadata": {
    "scrolled": true
   },
   "outputs": [],
   "source": [
    "#CUST_prod_cat vs Product_Club_Manual: only for reference- Product_Club_Manual seems a better categorization\n",
    "\n",
    "print('Null values in CUST_prod_cat:', df_merged['CUST_prod_cat'].isnull().sum())\n",
    "print('Null values in Product_Club_Manual:', df_merged['Product_Club_Manual'].isnull().sum())\n",
    "\n",
    "with pd.option_context('display.max_rows', None):\n",
    "    display(df_merged.groupby(['Product_Club_Manual','CUST_prod_cat']).size())\n"
   ]
  },
  {
   "cell_type": "code",
   "execution_count": null,
   "metadata": {},
   "outputs": [],
   "source": [
    "#same columns, different grouping\n",
    "with pd.option_context('display.max_rows', None):\n",
    "    display(df_merged.groupby(['CUST_prod_cat', 'Product_Club_Manual']).size())"
   ]
  },
  {
   "cell_type": "code",
   "execution_count": null,
   "metadata": {},
   "outputs": [],
   "source": [
    "#Product_Club_Manual vs Product_brief_category\n",
    "\n",
    "print('Null values in Product_Club_Manual:', df_merged['Product_Club_Manual'].isnull().sum())\n",
    "print('Null values in Product_brief_category:', df_merged['Product_brief_category'].isnull().sum())\n",
    "\n",
    "with pd.option_context('display.max_rows', None):\n",
    "    display(pd.crosstab(df_merged['Product_Club_Manual'], df_merged['Product_brief_category'], margins = True))\n"
   ]
  },
  {
   "cell_type": "markdown",
   "metadata": {},
   "source": [
    "***NOTES: both Product_brief_category and Product_Club_Manual give important information at the broadest possible categorization for reference. Product_Club_Manual is more detailed one***"
   ]
  },
  {
   "cell_type": "code",
   "execution_count": null,
   "metadata": {
    "scrolled": true
   },
   "outputs": [],
   "source": [
    "# Grouped value counts view of both product categories\n",
    "\n",
    "with pd.option_context('display.max_rows', None):\n",
    "    display(df_merged.groupby(['Product_brief_category','Product_Club_Manual']).size())"
   ]
  },
  {
   "cell_type": "code",
   "execution_count": null,
   "metadata": {},
   "outputs": [],
   "source": [
    "#Product_brief_category vs Par_NonPar\n",
    "\n",
    "with pd.option_context('display.max_rows', None):\n",
    "    display(df_merged.groupby(['Product_brief_category','Par_NonPar']).size())\n",
    "\n",
    "print('\\n')\n",
    "\n",
    "#Product_Club_Manual vs Par_NonPar\n",
    "with pd.option_context('display.max_rows', None):\n",
    "    display(df_merged.groupby(['Par_NonPar','Product_Club_Manual']).size())"
   ]
  },
  {
   "cell_type": "markdown",
   "metadata": {},
   "source": [
    "***NOTES: Product_brief_category seems to be the better classifier, along with Product_Club_Manual. Par_Nonpar is too broad a categorization***"
   ]
  },
  {
   "cell_type": "markdown",
   "metadata": {},
   "source": [
    "### 5. Location: Focus_region, STATNAME, DSTNAME, city, City_classification"
   ]
  },
  {
   "cell_type": "markdown",
   "metadata": {},
   "source": [
    "***city, DSTNAME are too detailed. Skipping that comparison***"
   ]
  },
  {
   "cell_type": "code",
   "execution_count": null,
   "metadata": {},
   "outputs": [],
   "source": [
    "#Focus region vs STATNAME\n",
    "\n",
    "print('Null values in Focus_region:', df_merged['Focus_region'].isnull().sum())\n",
    "print('Null values in STATNAME:', df_merged['STATNAME'].isnull().sum())\n",
    "\n",
    "with pd.option_context('display.max_rows', None):\n",
    "    display(df_merged.groupby(['Focus_region','STATNAME']).size())"
   ]
  },
  {
   "cell_type": "markdown",
   "metadata": {},
   "source": [
    "***NOTES: STATNAME is too detailed, but has much lesser values compared to city and DSTNAME***"
   ]
  },
  {
   "cell_type": "code",
   "execution_count": null,
   "metadata": {},
   "outputs": [],
   "source": [
    "#Focus region vs City_classification\n",
    "\n",
    "\n",
    "print('Null values in Focus_region:', df_merged['Focus_region'].isnull().sum())\n",
    "print('Null values in City_Classification:', df_merged['City_classification'].isnull().sum())\n",
    "\n",
    "with pd.option_context('display.max_rows', None):\n",
    "    display(pd.crosstab(df_merged['Focus_region'],df_merged['City_classification'], margins = True))\n"
   ]
  },
  {
   "cell_type": "code",
   "execution_count": null,
   "metadata": {},
   "outputs": [],
   "source": [
    "#City_classification vs STATNAME\n",
    "\n",
    "print('Null values in City_classification:', df_merged['City_classification'].isnull().sum())\n",
    "print('Null values in STATNAME:', df_merged['STATNAME'].isnull().sum())\n",
    "\n",
    "with pd.option_context('display.max_rows', None):\n",
    "    display(df_merged.groupby(['City_classification','STATNAME']).size())"
   ]
  },
  {
   "cell_type": "markdown",
   "metadata": {},
   "source": [
    "***NOTES: There should be only 4 METRO cities. (Perhaps the classification is MEGA CITIES). Null values are same in both columns. City_classification seems to be a good broad categorization, Focus region becomes too generic***"
   ]
  },
  {
   "cell_type": "markdown",
   "metadata": {},
   "source": [
    "#### 6. ECS FLAG, MED FLAG, CHANNEL FLAG"
   ]
  },
  {
   "cell_type": "code",
   "execution_count": null,
   "metadata": {
    "scrolled": true
   },
   "outputs": [],
   "source": [
    "#ECS\n",
    "with pd.option_context('display.max_rows', None):\n",
    "    display(df_merged.groupby(['Product_brief_category','ECS_flag']).size())\n",
    "    \n",
    "#Med flag\n",
    "with pd.option_context('display.max_rows', None):\n",
    "    display(df_merged.groupby(['Product_brief_category','Med_Flag']).size())\n",
    "\n",
    "#Channel flag\n",
    "with pd.option_context('display.max_rows', None):\n",
    "    display(df_merged.groupby(['Product_brief_category','channel_flag']).size())"
   ]
  },
  {
   "cell_type": "code",
   "execution_count": null,
   "metadata": {},
   "outputs": [],
   "source": []
  },
  {
   "cell_type": "markdown",
   "metadata": {},
   "source": [
    "## Continuous Variables Exploration\n",
    "\n",
    "- Removing top and bottom 1 percentile data to get graph (data too skewed to get plot otherwise)\n",
    "- Plotting\n",
    "    - Owner_Salary\n",
    "    - afyp\n",
    "    - premium\n",
    "    - sum assured"
   ]
  },
  {
   "cell_type": "markdown",
   "metadata": {},
   "source": [
    "#### 1. Owner_salary "
   ]
  },
  {
   "cell_type": "code",
   "execution_count": null,
   "metadata": {},
   "outputs": [],
   "source": [
    "#checking null values\n",
    "\n",
    "print('records with nan Owner salary: ', df_merged['Owner_salary'].isnull().sum())\n"
   ]
  },
  {
   "cell_type": "code",
   "execution_count": null,
   "metadata": {
    "scrolled": true
   },
   "outputs": [],
   "source": [
    "#removing those quantiles\n",
    "\n",
    "l1 = list(set(df_merged[df_merged['Owner_salary'] < df_merged['Owner_salary'].quantile(0.99)].index).intersection(set(df_merged[df_merged['Owner_salary'] > df_merged['Owner_salary'].quantile(0.01)].index)))\n",
    "print('No of records excluded:', len(df_merged) - len(l1))\n",
    "\n",
    "#Showing records used to plot graph and records excluded for reference\n",
    "display(df_merged.loc[l1])\n",
    "display(df_merged.drop(l1, axis = 'index'))"
   ]
  },
  {
   "cell_type": "code",
   "execution_count": null,
   "metadata": {},
   "outputs": [],
   "source": [
    "#Plot graph\n",
    "sns.distplot(df_merged.loc[l1, 'Owner_salary'])"
   ]
  },
  {
   "cell_type": "markdown",
   "metadata": {},
   "source": [
    "#### 2. afyp "
   ]
  },
  {
   "cell_type": "code",
   "execution_count": null,
   "metadata": {},
   "outputs": [],
   "source": [
    "#checking null values\n",
    "print('records with nan afyp: ', df_merged['afyp'].isnull().sum())"
   ]
  },
  {
   "cell_type": "code",
   "execution_count": null,
   "metadata": {},
   "outputs": [],
   "source": [
    "#removing those quantiles\n",
    "\n",
    "l2 = list(set(df_merged[df_merged['afyp'] < df_merged['afyp'].quantile(0.99)].index).intersection(set(df_merged[df_merged['afyp'] > df_merged['afyp'].quantile(0.01)].index)))\n",
    "print('No of records excluded:', len(df_merged) - len(l2))"
   ]
  },
  {
   "cell_type": "code",
   "execution_count": null,
   "metadata": {},
   "outputs": [],
   "source": [
    "#Plot graph\n",
    "sns.distplot(df_merged.loc[l2, 'afyp'])"
   ]
  },
  {
   "cell_type": "code",
   "execution_count": null,
   "metadata": {},
   "outputs": [],
   "source": []
  },
  {
   "cell_type": "markdown",
   "metadata": {},
   "source": [
    "#### 3. premium"
   ]
  },
  {
   "cell_type": "code",
   "execution_count": null,
   "metadata": {},
   "outputs": [],
   "source": [
    "#checking null values\n",
    "print('records with nan premium: ', df_merged['premium'].isnull().sum())"
   ]
  },
  {
   "cell_type": "code",
   "execution_count": null,
   "metadata": {},
   "outputs": [],
   "source": [
    "#removing those quantiles\n",
    "\n",
    "l3 = list(set(df_merged[df_merged['premium'] < df_merged['premium'].quantile(0.99)].index).intersection(set(df_merged[df_merged['premium'] > df_merged['premium'].quantile(0.01)].index)))\n",
    "print('No of records excluded:', len(df_merged) - len(l3))"
   ]
  },
  {
   "cell_type": "code",
   "execution_count": null,
   "metadata": {},
   "outputs": [],
   "source": [
    "#Plot graph\n",
    "sns.distplot(df_merged.loc[l3, 'premium'])"
   ]
  },
  {
   "cell_type": "markdown",
   "metadata": {},
   "source": [
    "#### 4. sum_assured "
   ]
  },
  {
   "cell_type": "code",
   "execution_count": null,
   "metadata": {},
   "outputs": [],
   "source": [
    "#checking null values\n",
    "print('records with nan sum_assured: ', df_merged['sum_assured'].isnull().sum())"
   ]
  },
  {
   "cell_type": "code",
   "execution_count": null,
   "metadata": {},
   "outputs": [],
   "source": [
    "#removing those quantiles\n",
    "\n",
    "l4 = list(set(df_merged[df_merged['sum_assured'] < df_merged['sum_assured'].quantile(0.99)].index).intersection(set(df_merged[df_merged['sum_assured'] > df_merged['sum_assured'].quantile(0.01)].index)))\n",
    "print('No of records excluded:', len(df_merged) - len(l4))"
   ]
  },
  {
   "cell_type": "code",
   "execution_count": null,
   "metadata": {},
   "outputs": [],
   "source": [
    "#Plot graph\n",
    "sns.distplot(df_merged.loc[l4, 'sum_assured'])"
   ]
  },
  {
   "cell_type": "markdown",
   "metadata": {},
   "source": [
    "#### Observations : \n",
    "- Graphs are highly skewed to right\n",
    "- the values show a lot of variation.\n",
    "- Hence, Mean Value can be used for imputation."
   ]
  },
  {
   "cell_type": "code",
   "execution_count": null,
   "metadata": {},
   "outputs": [],
   "source": []
  }
 ],
 "metadata": {
  "kernelspec": {
   "display_name": "Python 3",
   "language": "python",
   "name": "python3"
  },
  "language_info": {
   "codemirror_mode": {
    "name": "ipython",
    "version": 3
   },
   "file_extension": ".py",
   "mimetype": "text/x-python",
   "name": "python",
   "nbconvert_exporter": "python",
   "pygments_lexer": "ipython3",
   "version": "3.7.6"
  }
 },
 "nbformat": 4,
 "nbformat_minor": 2
}
