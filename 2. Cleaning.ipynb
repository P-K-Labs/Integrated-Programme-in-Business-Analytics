{
 "cells": [
  {
   "cell_type": "markdown",
   "metadata": {},
   "source": [
    "# Purpose and Observations:"
   ]
  },
  {
   "cell_type": "markdown",
   "metadata": {},
   "source": [
    "### Purpose:-\n",
    " - Complete cleaning and exporting clean data\n",
    "\n",
    "\n",
    "### Observations:-\n",
    " - \"policy_number\" is a unique identifier for both 'merged' datasets\n",
    "\n",
    "### Steps:-\n",
    "1. Marital Status Categories: M- Married, S-Single, W-widow, D-divorced, N- treated as NaN\n",
    "2. Own_Edu: Missing values represented by N.A. and MISSING, treated as NaN\n",
    "3. Occupation_Group: Missing value represented by N.A, treated as NaN\n",
    "4. Focus_region: Andhra and ANDHRA to be coalesced. convert ANDHRA, TAMIL NADU, KKG to SOUTH. (Converted string to upper case for all variables)\n",
    "5. STATNAME: duplicates present in different sentence cases. (Converted string to upper case for all variables)\n",
    "6. RCD and LA DOB datatype to be changed to DateTime format\n",
    "7. Convert float datatypes to int datatypes\n",
    "8. drop Unnamed column\n"
   ]
  },
  {
   "cell_type": "markdown",
   "metadata": {},
   "source": [
    "## Import Libraries"
   ]
  },
  {
   "cell_type": "code",
   "execution_count": null,
   "metadata": {},
   "outputs": [],
   "source": [
    "import pandas as pd\n",
    "import numpy as np\n",
    "import seaborn as sns\n",
    "import matplotlib.pyplot as plt\n",
    "import csv\n"
   ]
  },
  {
   "cell_type": "markdown",
   "metadata": {},
   "source": [
    "## Read data and Cleaning"
   ]
  },
  {
   "cell_type": "markdown",
   "metadata": {},
   "source": [
    "**moving ahead with 'merged' dataset**"
   ]
  },
  {
   "cell_type": "code",
   "execution_count": null,
   "metadata": {},
   "outputs": [],
   "source": [
    "\n",
    "df_merged=pd.read_csv('merged.csv')\n",
    "\n",
    "display(df_merged.info())\n",
    "\n",
    "display(df_merged.head())"
   ]
  },
  {
   "cell_type": "code",
   "execution_count": null,
   "metadata": {},
   "outputs": [],
   "source": [
    "#value counts\n",
    "   \n",
    "print(\" MERGED \".center(80,'#'), \"\\n\")\n",
    "for col in df_merged.select_dtypes(include=['object']).columns:\n",
    "    print(col.center(40,'#'), \"\\n\")\n",
    "    print(df_merged[col].value_counts(), \"\\n\")"
   ]
  },
  {
   "cell_type": "code",
   "execution_count": null,
   "metadata": {},
   "outputs": [],
   "source": [
    "#describe them\n",
    "pd.options.display.float_format = \"{:.2f}\".format\n",
    "\n",
    "display(df_merged.describe())"
   ]
  },
  {
   "cell_type": "markdown",
   "metadata": {},
   "source": [
    "#### Data cleaning:- <br />\n",
    "1. Marital Status Categories: M- Married, S-Single, W-widow, D-divorced, N- ?? <br />\n",
    "    NOTE: treating N as NaN for further analysis\n",
    "2. Own_Edu: if N.A and MISSING in Own_Edu be treated as same,i.e, Missing Values? <br />\n",
    "    NOTE: treated as NaN for further analysis\n",
    "3. Occupation_Group: Missing value represented by N.A <br />\n",
    "    NOTE: treated as NaN for fruther analysis\n",
    "4. Focus_region: Andhra and ANDHRA to be coalesced. convert ANDHRA, TAMIL NADU, KKG to SOUTH\n",
    "5. STATNAME: Converted to anyone case, duplicates present in different cases\n",
    "6. RCD and LA DOB datatype to be changed to DateTime format\n",
    "7. Convert float datatypes to int datatypes\n",
    "8. drop Unnamed column"
   ]
  },
  {
   "cell_type": "markdown",
   "metadata": {},
   "source": [
    "#### 1. 2. 3."
   ]
  },
  {
   "cell_type": "code",
   "execution_count": null,
   "metadata": {},
   "outputs": [],
   "source": [
    "#Marital_status, Own_Edu, Occupation_Group fix\n",
    "df_merged.replace(['N', 'N.A', 'MISSING'], np.nan, inplace=True )"
   ]
  },
  {
   "cell_type": "markdown",
   "metadata": {},
   "source": [
    "#### 4. 5."
   ]
  },
  {
   "cell_type": "code",
   "execution_count": null,
   "metadata": {},
   "outputs": [],
   "source": [
    "#STATNAME fix and Focus_region fix\n",
    "\n",
    "objectlistm = list(df_merged.select_dtypes('object').columns)\n",
    "for col in objectlistm:\n",
    "    df_merged[col] = df_merged[col].str.upper()\n",
    "\n",
    "\n",
    "# putting them under SOUTH\n",
    "df_merged['Focus_region'].replace(['KKG','ANDHRA','TAMIL NADU'], 'SOUTH', inplace = True)"
   ]
  },
  {
   "cell_type": "markdown",
   "metadata": {},
   "source": [
    "#### 6."
   ]
  },
  {
   "cell_type": "code",
   "execution_count": null,
   "metadata": {},
   "outputs": [],
   "source": [
    "# RCD and LA_DOB fix\n",
    "df_merged[\"LA_DOB\"]= pd.to_datetime(df_merged[\"LA_DOB\"])\n",
    "df_merged[\"RCD\"] = pd.to_datetime(df_merged[\"RCD\"])\n"
   ]
  },
  {
   "cell_type": "markdown",
   "metadata": {},
   "source": [
    "#### 7."
   ]
  },
  {
   "cell_type": "code",
   "execution_count": null,
   "metadata": {},
   "outputs": [],
   "source": [
    "#Float dtype fix\n",
    "floatlist = list(df_merged.select_dtypes('float').columns)\n",
    "display(df_merged.loc[:, floatlist])\n",
    "\n",
    "for col in floatlist:\n",
    "    df_merged.loc[:,col] = df_merged.loc[:,col].apply(np.ceil)\n",
    "    if df_merged.loc[:,col].isna().sum() == 0:\n",
    "        df_merged[col] = df_merged[col].astype('int64')\n"
   ]
  },
  {
   "cell_type": "code",
   "execution_count": null,
   "metadata": {},
   "outputs": [],
   "source": [
    "#drop Unnamed:0\n",
    "x= \"Unnamed: 0\"\n",
    "df_merged.drop([x], axis=1, inplace=True)"
   ]
  },
  {
   "cell_type": "code",
   "execution_count": null,
   "metadata": {},
   "outputs": [],
   "source": [
    "#check revised value counts    \n",
    "print(\" MERGED \".center(80,'#'), \"\\n\")\n",
    "for col in df_merged.select_dtypes(include=['object']).columns:\n",
    "    print(col.center(40,'#'), \"\\n\")\n",
    "    print(df_merged[col].value_counts(), \"\\n\")"
   ]
  },
  {
   "cell_type": "markdown",
   "metadata": {},
   "source": [
    "#### Export Cleaned data"
   ]
  },
  {
   "cell_type": "code",
   "execution_count": null,
   "metadata": {},
   "outputs": [],
   "source": [
    "#merged\n",
    "df_merged.to_csv('Merged_clean.csv', index = False)"
   ]
  },
  {
   "cell_type": "markdown",
   "metadata": {},
   "source": [
    "**NOTE: after importing cleaned data, will still need to convert RCD and LA_DOB to datetime from objects dtype. <br />\n",
    "This occurs since csv files dont store datetime**"
   ]
  },
  {
   "cell_type": "code",
   "execution_count": null,
   "metadata": {},
   "outputs": [],
   "source": []
  }
 ],
 "metadata": {
  "kernelspec": {
   "display_name": "Python 3",
   "language": "python",
   "name": "python3"
  },
  "language_info": {
   "codemirror_mode": {
    "name": "ipython",
    "version": 3
   },
   "file_extension": ".py",
   "mimetype": "text/x-python",
   "name": "python",
   "nbconvert_exporter": "python",
   "pygments_lexer": "ipython3",
   "version": "3.7.6"
  }
 },
 "nbformat": 4,
 "nbformat_minor": 2
}
