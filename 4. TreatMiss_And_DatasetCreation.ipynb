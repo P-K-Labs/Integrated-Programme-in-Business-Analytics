{
 "cells": [
  {
   "cell_type": "markdown",
   "metadata": {},
   "source": [
    "## Purpose and Observation"
   ]
  },
  {
   "cell_type": "markdown",
   "metadata": {},
   "source": [
    "### Purpose:\n",
    "\n",
    "   - Check missing values\n",
    "   - Create Required variables (Target, etc)\n",
    "   - Treat missing values (SimpleImputer used for continuous variables, dropping for remaining NaN values)\n",
    "   - export 'Dataset_model' to be used for model building\n",
    "       "
   ]
  },
  {
   "cell_type": "markdown",
   "metadata": {},
   "source": [
    "### Improvements that may be made in the notebook:\n",
    "- Missing values for continuous variables can also be treated using KNNImputer, after bucketing.\n",
    "    - Utilized SimpleImputer to treat missing values in continuous variables using mean\n",
    "- LabelEncoding introduces bias while using KNNImputer, One-Hot Encoding can be used for more efficiency"
   ]
  },
  {
   "cell_type": "markdown",
   "metadata": {},
   "source": [
    "## Import Libraries"
   ]
  },
  {
   "cell_type": "code",
   "execution_count": null,
   "metadata": {},
   "outputs": [],
   "source": [
    "import pandas as pd\n",
    "import numpy as np\n",
    "import seaborn as sns\n",
    "import matplotlib.pyplot as plt\n",
    "%matplotlib inline\n",
    "import csv\n",
    "\n",
    "from datetime import datetime\n",
    "from datetime import date\n",
    "\n",
    "from sklearn.impute import SimpleImputer"
   ]
  },
  {
   "cell_type": "markdown",
   "metadata": {},
   "source": [
    "## Read data and Cleaning"
   ]
  },
  {
   "cell_type": "code",
   "execution_count": null,
   "metadata": {},
   "outputs": [],
   "source": [
    "#import cleaned dataset\n",
    "df_merged = pd.read_csv('Merged_clean.csv')\n",
    "\n",
    "df_merged[\"RCD\"] = pd.to_datetime(df_merged[\"RCD\"])"
   ]
  },
  {
   "cell_type": "code",
   "execution_count": null,
   "metadata": {
    "scrolled": true
   },
   "outputs": [],
   "source": [
    "#commenting cleaning code\n",
    "\"\"\" Mentioning cleaning codes, remove quotations if dont have clean data file\n",
    "\n",
    "\n",
    "df_merged=pd.read_csv('merged.csv')\n",
    "\n",
    "\n",
    "#Marital_status, Own_Edu, Occupation_Group fix\n",
    "df_merged.replace(['N', 'N.A', 'MISSING'], np.nan, inplace=True )\n",
    "\n",
    "\n",
    "#STATNAME fix and Focus_region fix\n",
    "\n",
    "objectlistm = list(df_merged.select_dtypes('object').columns)\n",
    "for col in objectlistm:\n",
    "    df_merged[col] = df_merged[col].str.upper()\n",
    "\n",
    "\n",
    "# putting them under SOUTH\n",
    "df_merged['Focus_region'].replace(['KKG','ANDHRA','TAMIL NADU'], 'SOUTH', inplace = True)\n",
    "\n",
    "# RCD and LA_DOB fix\n",
    "df_merged[\"LA_DOB\"]= pd.to_datetime(df_merged[\"LA_DOB\"])\n",
    "df_merged[\"RCD\"] = pd.to_datetime(df_merged[\"RCD\"])\n",
    "\n",
    "\n",
    "#Float dtype fix\n",
    "floatlist = list(df_merged.select_dtypes('float').columns)\n",
    "display(df_merged.loc[:, floatlist])\n",
    "\n",
    "for col in floatlist:\n",
    "    df_merged.loc[:,col] = df_merged.loc[:,col].apply(np.ceil)\n",
    "    if df_merged.loc[:,col].isna().sum() == 0:\n",
    "        df_merged[col] = df_merged[col].astype('int64')\n",
    "\n",
    "#drop Unnamed:0\n",
    "x= \"Unnamed: 0\"\n",
    "\n",
    "df_merged.drop([x], axis=1, inplace=True)\n",
    "\n",
    "\"\"\""
   ]
  },
  {
   "cell_type": "markdown",
   "metadata": {},
   "source": [
    "## Descriptive stats for reference"
   ]
  },
  {
   "cell_type": "code",
   "execution_count": null,
   "metadata": {
    "scrolled": true
   },
   "outputs": [],
   "source": [
    "pd.options.display.float_format = \"{:.2f}\".format\n",
    "\n",
    "display(df_merged.describe())\n",
    "display(df_merged.info())"
   ]
  },
  {
   "cell_type": "markdown",
   "metadata": {},
   "source": [
    "## Check Missing values"
   ]
  },
  {
   "cell_type": "code",
   "execution_count": null,
   "metadata": {
    "scrolled": true
   },
   "outputs": [],
   "source": [
    "#check all records with atleast one missing value\n",
    "nulls = df_merged.isnull().any(axis=1).sum()\n",
    "print(\"records with missing values: \", nulls)\n",
    "print(\"percentage records with missing values: \", 100*nulls/len(df_merged))\n",
    "\n",
    "display(df_merged[df_merged.isnull().any(axis=1)])"
   ]
  },
  {
   "cell_type": "markdown",
   "metadata": {},
   "source": [
    "# Creating Dataset\n",
    "\n",
    "- Create Target and other required variables\n",
    "- Sort values by policy_owner_number, RCD\n",
    "- Treat missing values\n"
   ]
  },
  {
   "cell_type": "markdown",
   "metadata": {},
   "source": [
    "## Creating variables"
   ]
  },
  {
   "cell_type": "markdown",
   "metadata": {},
   "source": [
    "#### 1. Convert LA_DOB to age"
   ]
  },
  {
   "cell_type": "code",
   "execution_count": null,
   "metadata": {},
   "outputs": [],
   "source": [
    "#function to find age\n",
    "def calc_age(born):\n",
    "    born= datetime.strptime(born, '%Y-%m-%d').date()\n",
    "    today=date.today()\n",
    "    return today.year - born.year - ((today.month, today.day) < (born.month, born.day))"
   ]
  },
  {
   "cell_type": "code",
   "execution_count": null,
   "metadata": {},
   "outputs": [],
   "source": [
    "#get age\n",
    "df_merged['age'] = df_merged['LA_DOB'].apply(calc_age)\n",
    "#drop LA_DOB\n",
    "df_merged.drop('LA_DOB', axis=1, inplace=True)"
   ]
  },
  {
   "cell_type": "markdown",
   "metadata": {},
   "source": [
    "#### 2. Create Target Variable"
   ]
  },
  {
   "cell_type": "code",
   "execution_count": null,
   "metadata": {},
   "outputs": [],
   "source": [
    "condition = [df_merged['Freq'] > 1, df_merged['Freq'] == 1]\n",
    "cases = [1, 0]\n",
    "\n",
    "df_merged['target'] = np.select(condition, cases)"
   ]
  },
  {
   "cell_type": "markdown",
   "metadata": {},
   "source": [
    "#### 3. Make changes to Product_brief_category"
   ]
  },
  {
   "cell_type": "code",
   "execution_count": null,
   "metadata": {},
   "outputs": [],
   "source": [
    "#convert 'SAFAL JEEVAN' to 'TRADITIONAL'\n",
    "df_merged['Product_brief_category'] = df_merged['Product_brief_category'].replace('SAFAL JEEVAN', 'TRADITIONAL')"
   ]
  },
  {
   "cell_type": "code",
   "execution_count": null,
   "metadata": {},
   "outputs": [],
   "source": [
    "#check creation of above variables\n",
    "display(df_merged.head())\n",
    "display(df_merged['Product_brief_category'].value_counts())"
   ]
  },
  {
   "cell_type": "markdown",
   "metadata": {},
   "source": [
    "## Treat Missing Values"
   ]
  },
  {
   "cell_type": "markdown",
   "metadata": {},
   "source": [
    "### 1. Treat Continuous Variables: Owner_salary"
   ]
  },
  {
   "cell_type": "code",
   "execution_count": null,
   "metadata": {},
   "outputs": [],
   "source": [
    "#merged\n",
    "imp = SimpleImputer(missing_values = np.nan, strategy = 'mean')\n",
    "df_merged['Owner_salary'] = imp.fit_transform(df_merged[['Owner_salary']])\n",
    "\n",
    "display(df_merged['Owner_salary'])"
   ]
  },
  {
   "cell_type": "markdown",
   "metadata": {},
   "source": [
    "## 2. Drop remaining NaN vals"
   ]
  },
  {
   "cell_type": "code",
   "execution_count": null,
   "metadata": {},
   "outputs": [],
   "source": [
    "features_with_na=[features for features in df_merged.columns if df_merged[features].isnull().sum() >1]\n",
    "\n",
    "for feature in features_with_na:\n",
    "    print(feature, np.round(df_merged[feature].isnull().mean()*100,4), ' %missing values')"
   ]
  },
  {
   "cell_type": "code",
   "execution_count": null,
   "metadata": {},
   "outputs": [],
   "source": [
    "df_merged.dropna(inplace = True)"
   ]
  },
  {
   "cell_type": "markdown",
   "metadata": {},
   "source": [
    "# Create and Export 'Dataset_model' to be used for Model Building"
   ]
  },
  {
   "cell_type": "code",
   "execution_count": null,
   "metadata": {},
   "outputs": [],
   "source": [
    "#export this complete dataframe\n",
    "df_merged.to_csv('Merged_clean_and_dropped.csv', index = False)"
   ]
  },
  {
   "cell_type": "code",
   "execution_count": null,
   "metadata": {},
   "outputs": [],
   "source": [
    "#create dataset to model on\n",
    "df_merged.sort_values(['policy_owner_number', 'RCD'], inplace=True)\n",
    "df_merged.reset_index(drop=True, inplace=True)\n",
    "dataset=df_merged.drop_duplicates(subset='policy_owner_number', keep='first')\n",
    "display(dataset)\n",
    "\n",
    "#export\n",
    "dataset.to_csv('Dataset_model.csv', index = False)"
   ]
  },
  {
   "cell_type": "code",
   "execution_count": null,
   "metadata": {},
   "outputs": [],
   "source": []
  }
 ],
 "metadata": {
  "kernelspec": {
   "display_name": "Python 3",
   "language": "python",
   "name": "python3"
  },
  "language_info": {
   "codemirror_mode": {
    "name": "ipython",
    "version": 3
   },
   "file_extension": ".py",
   "mimetype": "text/x-python",
   "name": "python",
   "nbconvert_exporter": "python",
   "pygments_lexer": "ipython3",
   "version": "3.7.6"
  }
 },
 "nbformat": 4,
 "nbformat_minor": 2
}
