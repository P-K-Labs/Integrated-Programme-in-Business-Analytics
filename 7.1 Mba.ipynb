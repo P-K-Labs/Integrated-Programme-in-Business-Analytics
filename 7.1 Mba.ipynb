{
 "cells": [
  {
   "cell_type": "markdown",
   "metadata": {},
   "source": [
    "# Import Libraries"
   ]
  },
  {
   "cell_type": "code",
   "execution_count": null,
   "metadata": {},
   "outputs": [],
   "source": [
    "#libraries\n",
    "import numpy as np\n",
    "import pandas as pd\n",
    "from mlxtend.frequent_patterns import apriori\n",
    "from mlxtend.frequent_patterns import association_rules"
   ]
  },
  {
   "cell_type": "markdown",
   "metadata": {},
   "source": [
    "# Read data"
   ]
  },
  {
   "cell_type": "markdown",
   "metadata": {},
   "source": [
    "**dataset used Merged_clean_and_dropped: Merged cleaned, continuous variables imputed with mean, rest recordes with NaN dropped**\n",
    "**NOTE: data munging is done later on, for isolating rows with target variable = 1**"
   ]
  },
  {
   "cell_type": "code",
   "execution_count": null,
   "metadata": {
    "scrolled": true
   },
   "outputs": [],
   "source": [
    "#read data\n",
    "df_merged = pd.read_csv('Merged_clean_and_dropped.csv')\n",
    "\n",
    "#descreptive stats for reference\n",
    "pd.options.display.float_format = \"{:.2f}\".format\n",
    "with pd.option_context('display.max_columns', None):\n",
    "    display(df_merged.head())\n",
    "    display(df_merged.describe())\n",
    "    display(df_merged.shape)\n",
    "    display(df_merged.info())"
   ]
  },
  {
   "cell_type": "markdown",
   "metadata": {},
   "source": [
    "# Dataset preparation for apriori"
   ]
  },
  {
   "cell_type": "code",
   "execution_count": null,
   "metadata": {},
   "outputs": [],
   "source": [
    "#preparing dataset for mlextend\n",
    "\n",
    "#clean\n",
    "df_merged = df_merged[df_merged['target'] == 1]\n",
    "df_merged['Product_Description'] = df_merged['Product_Description'].str.strip()\n",
    "df_merged['Product_brief_category'] = df_merged['Product_brief_category'].str.strip()\n",
    "df_merged['Product_Club_Manual'] = df_merged['Product_Club_Manual'].str.strip()\n",
    "df_merged['CUST_prod_cat'] = df_merged['CUST_prod_cat'].str.strip()\n",
    "df_merged['Par_NonPar'] = df_merged['Par_NonPar'].str.strip()\n",
    "df_merged.dropna(axis = 0, subset = ['policy_owner_number'], inplace = True)\n",
    "df_merged['policy_owner_number'] = df_merged['policy_owner_number'].astype('str')\n",
    "df_merged.replace({'target': 0}, 1, inplace = True)\n"
   ]
  },
  {
   "cell_type": "code",
   "execution_count": null,
   "metadata": {},
   "outputs": [],
   "source": [
    "#rank\n",
    "df_merged['rank'] = df_merged.groupby(['policy_owner_number']).cumcount()+1"
   ]
  },
  {
   "cell_type": "code",
   "execution_count": null,
   "metadata": {},
   "outputs": [],
   "source": [
    "#display majority\n",
    "\n",
    "print('\\033[1m Product_Description \\033[0m : \\n',df_merged[df_merged['rank']==1]['Product_Description'].value_counts(normalize=True).head(5))\n",
    "print('#########################')\n",
    "\n",
    "print('\\033[1m Product_brief_category \\033[0m : \\n',df_merged[df_merged['rank']==1]['Product_brief_category'].value_counts(normalize=True).head(5))\n",
    "print('#########################')\n",
    "\n",
    "print('\\033[1m Product_Club_Manual \\033[0m : \\n',df_merged[df_merged['rank']==1]['Product_Club_Manual'].value_counts(normalize=True).head(5))\n",
    "print('#########################')\n",
    "\n",
    "print('\\033[1m CUST_prod_cat \\033[0m : \\n',df_merged[df_merged['rank']==1]['CUST_prod_cat'].value_counts(normalize=True).head(5))\n",
    "print('#########################')\n",
    "\n",
    "print('\\033[1m Par_NonPar \\033[0m : \\n',df_merged[df_merged['rank']==1]['Par_NonPar'].value_counts(normalize=True).head(5))\n",
    "print('#########################')"
   ]
  },
  {
   "cell_type": "code",
   "execution_count": null,
   "metadata": {},
   "outputs": [],
   "source": [
    "#create seperate baskets (Datasets) for every product related variable\n",
    "basket_desc = (df_merged\n",
    "          .groupby(['policy_owner_number', 'Product_Description'])['target']\n",
    "          .sum().unstack().reset_index().fillna(0)\n",
    "          .set_index('policy_owner_number'))\n",
    "\n",
    "basket_pcm = (df_merged\n",
    "          .groupby(['policy_owner_number', 'Product_Club_Manual'])['target']\n",
    "          .sum().unstack().reset_index().fillna(0)\n",
    "          .set_index('policy_owner_number'))\n",
    "\n",
    "basket_pbc = (df_merged\n",
    "          .groupby(['policy_owner_number', 'Product_brief_category'])['target']\n",
    "          .sum().unstack().reset_index().fillna(0)\n",
    "          .set_index('policy_owner_number'))\n",
    "\n",
    "basket_cpc = (df_merged\n",
    "          .groupby(['policy_owner_number', 'CUST_prod_cat'])['target']\n",
    "          .sum().unstack().reset_index().fillna(0)\n",
    "          .set_index('policy_owner_number'))\n",
    "\n",
    "basket_pnp = (df_merged\n",
    "          .groupby(['policy_owner_number', 'Par_NonPar'])['target']\n",
    "          .sum().unstack().reset_index().fillna(0)\n",
    "          .set_index('policy_owner_number'))"
   ]
  },
  {
   "cell_type": "code",
   "execution_count": null,
   "metadata": {
    "scrolled": true
   },
   "outputs": [],
   "source": [
    "#displaying dataframes for reference\n",
    "display(basket_desc.head())\n",
    "display(basket_pcm.head())\n",
    "display(basket_pbc.head())\n",
    "display(basket_cpc.head())\n",
    "display(basket_pnp.head())"
   ]
  },
  {
   "cell_type": "code",
   "execution_count": null,
   "metadata": {},
   "outputs": [],
   "source": [
    "# convert values to integers 0 or 1\n",
    "def encode_units(x):\n",
    "    if x <= 0:\n",
    "        return 0\n",
    "    if x>= 1:\n",
    "        return 1\n",
    "    \n",
    "basket_set_desc = basket_desc.applymap(encode_units)\n",
    "basket_set_pcm = basket_pcm.applymap(encode_units)\n",
    "basket_set_pbc = basket_pbc.applymap(encode_units)\n",
    "basket_set_cpc = basket_cpc.applymap(encode_units)\n",
    "basket_set_pnp = basket_pnp.applymap(encode_units)\n"
   ]
  },
  {
   "cell_type": "code",
   "execution_count": null,
   "metadata": {},
   "outputs": [],
   "source": [
    "basket_set_desc"
   ]
  },
  {
   "cell_type": "markdown",
   "metadata": {},
   "source": [
    "# Market Basket Analysis"
   ]
  },
  {
   "cell_type": "markdown",
   "metadata": {},
   "source": [
    "#### 1. Product Description"
   ]
  },
  {
   "cell_type": "code",
   "execution_count": null,
   "metadata": {
    "scrolled": true
   },
   "outputs": [],
   "source": [
    "basket_set_desc.shape"
   ]
  },
  {
   "cell_type": "code",
   "execution_count": null,
   "metadata": {},
   "outputs": [],
   "source": [
    "\n",
    "\n",
    "#doesn't generate association_rules unless min_support reduced to 0.03\n",
    "\n",
    "freqlist1 = apriori(basket_set_desc, min_support = 0.0004, max_len= None, verbose = 0, use_colnames = True, low_memory= False)\n",
    "\n",
    "display(freqlist1.head())"
   ]
  },
  {
   "cell_type": "code",
   "execution_count": null,
   "metadata": {
    "scrolled": true
   },
   "outputs": [],
   "source": [
    "rules1 = association_rules(freqlist1, metric = 'lift', min_threshold = 1)\n",
    "rules1.sort_values('lift', ascending = False)"
   ]
  },
  {
   "cell_type": "code",
   "execution_count": null,
   "metadata": {},
   "outputs": [],
   "source": [
    "#display rules for top 2 categories. Since they account for most percentage of data\n",
    "display(rules1[rules1['antecedents'] == {'GURANTEED INCOME'}])\n",
    "display(rules1[rules1['antecedents'] == {'NEW FULFILLING LIFE ANTI. W/L'}])"
   ]
  },
  {
   "cell_type": "markdown",
   "metadata": {},
   "source": [
    "#### 2. Product Club Manual"
   ]
  },
  {
   "cell_type": "code",
   "execution_count": null,
   "metadata": {
    "scrolled": true
   },
   "outputs": [],
   "source": [
    "\n",
    "\n",
    "#doesn't generate association_rules unless min_support reduced to 0.03\n",
    "\n",
    "freqlist2 = apriori(basket_set_pcm, min_support = 0.0005, max_len= None, verbose = 0, use_colnames = True, low_memory= False)\n",
    "\n",
    "display(freqlist2.head())"
   ]
  },
  {
   "cell_type": "code",
   "execution_count": null,
   "metadata": {
    "scrolled": true
   },
   "outputs": [],
   "source": [
    "rules2 = association_rules(freqlist2, metric = 'lift', min_threshold = 1)\n",
    "rules2.sort_values('lift', ascending = False)"
   ]
  },
  {
   "cell_type": "code",
   "execution_count": null,
   "metadata": {},
   "outputs": [],
   "source": [
    "#display rules for top 2 categories. Since they account for most percentage of data\n",
    "with pd.option_context('display.max_columns', None, 'display.width', None, 'display.max_colwidth', -1):\n",
    "    display(rules2[rules2['antecedents'] == {'GUARANTEED INCOME'}])\n",
    "    display(rules2[rules2['antecedents'] == {'SECURED INCOME'}])\n",
    "    display(rules2[rules2['antecedents'] == {'FULFILLING LIFE'}])\n",
    "    display(rules2[rules2['antecedents'] == {'CREATING LIFE'}])\n",
    "    display(rules2[rules2['antecedents'] == {'STAR LIFE'}])"
   ]
  },
  {
   "cell_type": "markdown",
   "metadata": {},
   "source": [
    "#### 3. Product Brief Category "
   ]
  },
  {
   "cell_type": "code",
   "execution_count": null,
   "metadata": {},
   "outputs": [],
   "source": [
    "\n",
    "\n",
    "#doesn't generate association_rules till min_support is reduced to 0.01\n",
    "\n",
    "freqlist3 = apriori(basket_set_pbc, min_support = 0.003, max_len= None, verbose = 0, use_colnames = True, low_memory= False)\n",
    "\n",
    "display(freqlist3.head())"
   ]
  },
  {
   "cell_type": "code",
   "execution_count": null,
   "metadata": {
    "scrolled": true
   },
   "outputs": [],
   "source": [
    "rules3 = association_rules(freqlist3, metric = 'lift', min_threshold = 1)\n",
    "rules3.sort_values('lift', ascending = False)"
   ]
  },
  {
   "cell_type": "code",
   "execution_count": null,
   "metadata": {},
   "outputs": [],
   "source": [
    "#display rules for top 2 categories. Since they account for most percentage of data\n",
    "display(rules1[rules1['antecedents'] == {'TRADITIONAL'}])\n",
    "display(rules1[rules1['antecedents'] == {'ULIP'}])"
   ]
  },
  {
   "cell_type": "markdown",
   "metadata": {},
   "source": [
    "#### 4. CUST_prod_cat"
   ]
  },
  {
   "cell_type": "code",
   "execution_count": null,
   "metadata": {
    "scrolled": true
   },
   "outputs": [],
   "source": [
    "\n",
    "\n",
    "# doesn't generate association_rules for any value of min_support\n",
    "\n",
    "freqlist4 = apriori(basket_set_cpc, min_support = 0.000000001, max_len= None, verbose = 0, use_colnames = True, low_memory= False)\n",
    "\n",
    "display(freqlist4)"
   ]
  },
  {
   "cell_type": "code",
   "execution_count": null,
   "metadata": {},
   "outputs": [],
   "source": [
    "rules4 = association_rules(freqlist4, metric = 'lift', min_threshold = 1)\n",
    "rules4.sort_values('lift', ascending = False)"
   ]
  },
  {
   "cell_type": "markdown",
   "metadata": {},
   "source": [
    "#### 5. Par Non_par"
   ]
  },
  {
   "cell_type": "code",
   "execution_count": null,
   "metadata": {},
   "outputs": [],
   "source": [
    "\n",
    "\n",
    "# doesn't generate association_rules unless min_support reduced to 0.01\n",
    "\n",
    "freqlist5 = apriori(basket_set_pnp, min_support = 0.003, max_len= None, verbose = 0, use_colnames = True, low_memory= False)\n",
    "\n",
    "display(freqlist5.head())"
   ]
  },
  {
   "cell_type": "code",
   "execution_count": null,
   "metadata": {
    "scrolled": true
   },
   "outputs": [],
   "source": [
    "rules5 = association_rules(freqlist5, metric = 'lift', min_threshold = 1)\n",
    "rules5.sort_values('lift', ascending = False)"
   ]
  },
  {
   "cell_type": "code",
   "execution_count": null,
   "metadata": {},
   "outputs": [],
   "source": [
    "#display rules for top 2 categories. Since they account for most percentage of data\n",
    "display(rules1[rules1['antecedents'] == {'PAR'}])\n",
    "display(rules1[rules1['antecedents'] == {'NON-PAR'}])"
   ]
  },
  {
   "cell_type": "code",
   "execution_count": null,
   "metadata": {},
   "outputs": [],
   "source": []
  }
 ],
 "metadata": {
  "kernelspec": {
   "display_name": "Python 3",
   "language": "python",
   "name": "python3"
  },
  "language_info": {
   "codemirror_mode": {
    "name": "ipython",
    "version": 3
   },
   "file_extension": ".py",
   "mimetype": "text/x-python",
   "name": "python",
   "nbconvert_exporter": "python",
   "pygments_lexer": "ipython3",
   "version": "3.7.6"
  }
 },
 "nbformat": 4,
 "nbformat_minor": 2
}
